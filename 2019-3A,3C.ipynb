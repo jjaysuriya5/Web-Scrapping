{
 "cells": [
  {
   "cell_type": "code",
   "execution_count": 31,
   "metadata": {},
   "outputs": [
    {
     "name": "stdout",
     "output_type": "stream",
     "text": [
      "<div class=\"products\">\n",
      "<div class =\"product\" type=\"mobiles\">\n",
      "<a href=\"/moto.html\" class=\"product-link\">\n",
      "<div class=\"title\">Moto G5</div>\n",
      "<img src=\"/moto.png\" />\n",
      "<div class=\"desc\">\n",
      "<p>8GB data good to use</p>\n",
      "</div>\n",
      "<div class=\"category\" type=\"moto\"></div>\n",
      "</a>\n",
      "</div>\n",
      "<div class =\"product\" type=\"mobiles\">\n",
      "<a href=\"/apple.html\" class=\"product-link\">\n",
      "<div class=\"title\">Iphone 6</div>\n",
      "<img src=\"/iphone.png\" />\n",
      "<div class=\"desc\">\n",
      "<p>10GB data good to use</p>\n",
      "</div>\n",
      "<div class=\"category\" type=\"apple\"></div>\n",
      "</a>\n",
      "</div>\n",
      "</div>\n"
     ]
    },
    {
     "data": {
      "text/plain": [
       "<function TextIOWrapper.close()>"
      ]
     },
     "execution_count": 31,
     "metadata": {},
     "output_type": "execute_result"
    }
   ],
   "source": [
    "path=\"C:/Users/Amruth PC/Desktop/Q3.html\"\n",
    "con=open(path,'r')\n",
    "html=con.read()\n",
    "print(html)\n",
    "con.close"
   ]
  },
  {
   "cell_type": "code",
   "execution_count": 33,
   "metadata": {},
   "outputs": [
    {
     "name": "stdout",
     "output_type": "stream",
     "text": [
      "<class 'bs4.BeautifulSoup'>\n",
      "<div class=\"products\">\n",
      "<div class=\"product\" type=\"mobiles\">\n",
      "<a class=\"product-link\" href=\"/moto.html\">\n",
      "<div class=\"title\">Moto G5</div>\n",
      "<img src=\"/moto.png\"/>\n",
      "<div class=\"desc\">\n",
      "<p>8GB data good to use</p>\n",
      "</div>\n",
      "<div class=\"category\" type=\"moto\"></div>\n",
      "</a>\n",
      "</div>\n",
      "<div class=\"product\" type=\"mobiles\">\n",
      "<a class=\"product-link\" href=\"/apple.html\">\n",
      "<div class=\"title\">Iphone 6</div>\n",
      "<img src=\"/iphone.png\"/>\n",
      "<div class=\"desc\">\n",
      "<p>10GB data good to use</p>\n",
      "</div>\n",
      "<div class=\"category\" type=\"apple\"></div>\n",
      "</a>\n",
      "</div>\n",
      "</div>\n"
     ]
    }
   ],
   "source": [
    "from bs4 import BeautifulSoup\n",
    "html_parsable=BeautifulSoup(html,'html.parser')\n",
    "print(type(html_parsable))\n",
    "print(html_parsable)"
   ]
  },
  {
   "cell_type": "code",
   "execution_count": 64,
   "metadata": {},
   "outputs": [
    {
     "name": "stdout",
     "output_type": "stream",
     "text": [
      "/moto.png\n",
      "/iphone.png\n"
     ]
    }
   ],
   "source": [
    "for k in html_parsable.find_all('img'):\n",
    "    print(k['src'])"
   ]
  },
  {
   "cell_type": "code",
   "execution_count": 66,
   "metadata": {},
   "outputs": [
    {
     "data": {
      "text/html": [
       "<div>\n",
       "<style scoped>\n",
       "    .dataframe tbody tr th:only-of-type {\n",
       "        vertical-align: middle;\n",
       "    }\n",
       "\n",
       "    .dataframe tbody tr th {\n",
       "        vertical-align: top;\n",
       "    }\n",
       "\n",
       "    .dataframe thead th {\n",
       "        text-align: right;\n",
       "    }\n",
       "</style>\n",
       "<table border=\"1\" class=\"dataframe\">\n",
       "  <thead>\n",
       "    <tr style=\"text-align: right;\">\n",
       "      <th></th>\n",
       "      <th>Title</th>\n",
       "      <th>URL</th>\n",
       "      <th>Image</th>\n",
       "      <th>Des</th>\n",
       "      <th>Category</th>\n",
       "    </tr>\n",
       "  </thead>\n",
       "  <tbody>\n",
       "    <tr>\n",
       "      <th>0</th>\n",
       "      <td>Moto G5</td>\n",
       "      <td>/moto.html</td>\n",
       "      <td>/moto.png</td>\n",
       "      <td>8GB data good to use</td>\n",
       "      <td>moto</td>\n",
       "    </tr>\n",
       "    <tr>\n",
       "      <th>1</th>\n",
       "      <td>Iphone 6</td>\n",
       "      <td>/apple.html</td>\n",
       "      <td>/iphone.png</td>\n",
       "      <td>10GB data good to use</td>\n",
       "      <td>apple</td>\n",
       "    </tr>\n",
       "  </tbody>\n",
       "</table>\n",
       "</div>"
      ],
      "text/plain": [
       "      Title          URL        Image                    Des Category\n",
       "0   Moto G5   /moto.html    /moto.png   8GB data good to use     moto\n",
       "1  Iphone 6  /apple.html  /iphone.png  10GB data good to use    apple"
      ]
     },
     "execution_count": 66,
     "metadata": {},
     "output_type": "execute_result"
    }
   ],
   "source": [
    "Title=[]\n",
    "URL=[]\n",
    "Image=[]\n",
    "Des=[]\n",
    "Category=[]\n",
    "for i in html_parsable.find_all('a'):\n",
    "    URL.append(i['href'])\n",
    "for j in html_parsable.find_all('div',{'class':'title'}):\n",
    "    Title.append(j.text)\n",
    "for k in html_parsable.find_all('p'):\n",
    "    Des.append(k.text)\n",
    "for l in html_parsable.find_all('img'):\n",
    "    Image.append(l['src'])\n",
    "for m in html_parsable.find_all('div',{'class':'category'}):\n",
    "    Category.append(m['type'])\n",
    "\n",
    "import pandas as pd\n",
    "df=pd.DataFrame({'Title':Title,'URL':URL,'Image':Image,'Des':Des,'Category':Category})\n",
    "df"
   ]
  },
  {
   "cell_type": "code",
   "execution_count": 4,
   "metadata": {},
   "outputs": [],
   "source": [
    "s=\"\"\"\n",
    "[\n",
    "    {\n",
    "        \"color\":\"<p>black</p>\",\n",
    "        \"category\":\"hue\",\n",
    "        \"type\":\"primary\",\n",
    "        \"code\":{\n",
    "            \"rgba\":[255,255,255,1],\n",
    "            \"hex\":\"#000\"\n",
    "        }\n",
    "    },\n",
    "    {\n",
    "     \"color\":\"<p>white</p>\",\n",
    "        \"category\":\"value\",\n",
    "        \"type\":\"primary\",\n",
    "        \"code\":{\n",
    "            \"rgba\":[0,0,0,1],\n",
    "            \"hex\":\"#FFF\"\n",
    "        }   \n",
    "    }\n",
    "    \n",
    "] \n",
    "\"\"\""
   ]
  },
  {
   "cell_type": "code",
   "execution_count": 5,
   "metadata": {},
   "outputs": [],
   "source": [
    "data = json.loads(s) #Reading JSON as string format"
   ]
  },
  {
   "cell_type": "code",
   "execution_count": 6,
   "metadata": {},
   "outputs": [
    {
     "data": {
      "text/plain": [
       "[{'color': '<p>black</p>',\n",
       "  'category': 'hue',\n",
       "  'type': 'primary',\n",
       "  'code': {'rgba': [255, 255, 255, 1], 'hex': '#000'}},\n",
       " {'color': '<p>white</p>',\n",
       "  'category': 'value',\n",
       "  'type': 'primary',\n",
       "  'code': {'rgba': [0, 0, 0, 1], 'hex': '#FFF'}}]"
      ]
     },
     "execution_count": 6,
     "metadata": {},
     "output_type": "execute_result"
    }
   ],
   "source": [
    "data"
   ]
  },
  {
   "cell_type": "code",
   "execution_count": 3,
   "metadata": {},
   "outputs": [],
   "source": [
    "import json"
   ]
  },
  {
   "cell_type": "code",
   "execution_count": 132,
   "metadata": {},
   "outputs": [],
   "source": [
    "path=\"C:/Users/Amruth PC/Desktop/q3b.JSON\"\n",
    "con=open(path,'r')\n",
    "data = json.loads(con.read())"
   ]
  },
  {
   "cell_type": "code",
   "execution_count": 133,
   "metadata": {},
   "outputs": [
    {
     "data": {
      "text/html": [
       "<div>\n",
       "<style scoped>\n",
       "    .dataframe tbody tr th:only-of-type {\n",
       "        vertical-align: middle;\n",
       "    }\n",
       "\n",
       "    .dataframe tbody tr th {\n",
       "        vertical-align: top;\n",
       "    }\n",
       "\n",
       "    .dataframe thead th {\n",
       "        text-align: right;\n",
       "    }\n",
       "</style>\n",
       "<table border=\"1\" class=\"dataframe\">\n",
       "  <thead>\n",
       "    <tr style=\"text-align: right;\">\n",
       "      <th></th>\n",
       "      <th>Color</th>\n",
       "      <th>Category</th>\n",
       "      <th>Rgba</th>\n",
       "      <th>Hex</th>\n",
       "    </tr>\n",
       "  </thead>\n",
       "  <tbody>\n",
       "    <tr>\n",
       "      <th>0</th>\n",
       "      <td>Black</td>\n",
       "      <td>hue</td>\n",
       "      <td>255, 255, 255, 1</td>\n",
       "      <td>#000</td>\n",
       "    </tr>\n",
       "    <tr>\n",
       "      <th>1</th>\n",
       "      <td>White</td>\n",
       "      <td>value</td>\n",
       "      <td>0, 0, 0, 1</td>\n",
       "      <td>#FFF</td>\n",
       "    </tr>\n",
       "  </tbody>\n",
       "</table>\n",
       "</div>"
      ],
      "text/plain": [
       "   Color Category              Rgba   Hex\n",
       "0  Black      hue  255, 255, 255, 1  #000\n",
       "1  White    value        0, 0, 0, 1  #FFF"
      ]
     },
     "execution_count": 133,
     "metadata": {},
     "output_type": "execute_result"
    }
   ],
   "source": [
    "Color=[]\n",
    "Category=[]\n",
    "Rgba=[]\n",
    "Hex=[]\n",
    "for i in data:\n",
    "    Color.append(str.capitalize(i[\"color\"].strip('<p>').strip('</p>')))\n",
    "    Category.append(i[\"category\"])\n",
    "    Rgba.append(\", \".join(str(x) for x in (i[\"code\"][\"rgba\"])))\n",
    "    Hex.append(i[\"code\"][\"hex\"])\n",
    "    \n",
    "\n",
    "import pandas as pd\n",
    "df_2=pd.DataFrame({'Color':Color,'Category':Category,'Rgba':Rgba,'Hex':Hex})\n",
    "df_2"
   ]
  },
  {
   "cell_type": "code",
   "execution_count": 134,
   "metadata": {},
   "outputs": [
    {
     "data": {
      "text/html": [
       "<div>\n",
       "<style scoped>\n",
       "    .dataframe tbody tr th:only-of-type {\n",
       "        vertical-align: middle;\n",
       "    }\n",
       "\n",
       "    .dataframe tbody tr th {\n",
       "        vertical-align: top;\n",
       "    }\n",
       "\n",
       "    .dataframe thead th {\n",
       "        text-align: right;\n",
       "    }\n",
       "</style>\n",
       "<table border=\"1\" class=\"dataframe\">\n",
       "  <thead>\n",
       "    <tr style=\"text-align: right;\">\n",
       "      <th></th>\n",
       "      <th>Color</th>\n",
       "      <th>Category</th>\n",
       "      <th>Rgba</th>\n",
       "      <th>Hex</th>\n",
       "    </tr>\n",
       "  </thead>\n",
       "  <tbody>\n",
       "    <tr>\n",
       "      <th>count</th>\n",
       "      <td>2</td>\n",
       "      <td>2</td>\n",
       "      <td>2</td>\n",
       "      <td>2</td>\n",
       "    </tr>\n",
       "    <tr>\n",
       "      <th>unique</th>\n",
       "      <td>2</td>\n",
       "      <td>2</td>\n",
       "      <td>2</td>\n",
       "      <td>2</td>\n",
       "    </tr>\n",
       "    <tr>\n",
       "      <th>top</th>\n",
       "      <td>White</td>\n",
       "      <td>value</td>\n",
       "      <td>0, 0, 0, 1</td>\n",
       "      <td>#FFF</td>\n",
       "    </tr>\n",
       "    <tr>\n",
       "      <th>freq</th>\n",
       "      <td>1</td>\n",
       "      <td>1</td>\n",
       "      <td>1</td>\n",
       "      <td>1</td>\n",
       "    </tr>\n",
       "  </tbody>\n",
       "</table>\n",
       "</div>"
      ],
      "text/plain": [
       "        Color Category        Rgba   Hex\n",
       "count       2        2           2     2\n",
       "unique      2        2           2     2\n",
       "top     White    value  0, 0, 0, 1  #FFF\n",
       "freq        1        1           1     1"
      ]
     },
     "execution_count": 134,
     "metadata": {},
     "output_type": "execute_result"
    }
   ],
   "source": [
    "df_2.describe()"
   ]
  },
  {
   "cell_type": "code",
   "execution_count": 14,
   "metadata": {},
   "outputs": [
    {
     "name": "stdout",
     "output_type": "stream",
     "text": [
      "All Questions\n",
      "[<selenium.webdriver.firefox.webelement.FirefoxWebElement (session=\"a837ed9f-17fd-48c0-960c-2f2310c86c21\", element=\"10cd3072-389a-4439-b4dd-f2bfc01dd848\")>, <selenium.webdriver.firefox.webelement.FirefoxWebElement (session=\"a837ed9f-17fd-48c0-960c-2f2310c86c21\", element=\"2b796bc3-5e72-4c06-851a-118786404689\")>, <selenium.webdriver.firefox.webelement.FirefoxWebElement (session=\"a837ed9f-17fd-48c0-960c-2f2310c86c21\", element=\"4ec18c97-6ee2-4767-9300-9be18118eca0\")>, <selenium.webdriver.firefox.webelement.FirefoxWebElement (session=\"a837ed9f-17fd-48c0-960c-2f2310c86c21\", element=\"8a352a94-77e3-4340-b2bd-44702090df9f\")>, <selenium.webdriver.firefox.webelement.FirefoxWebElement (session=\"a837ed9f-17fd-48c0-960c-2f2310c86c21\", element=\"34f6c959-268d-4d8b-95ca-dcb6b8850bb3\")>, <selenium.webdriver.firefox.webelement.FirefoxWebElement (session=\"a837ed9f-17fd-48c0-960c-2f2310c86c21\", element=\"c2492ac2-cb05-41ec-9b3b-fcfcd31eb631\")>, <selenium.webdriver.firefox.webelement.FirefoxWebElement (session=\"a837ed9f-17fd-48c0-960c-2f2310c86c21\", element=\"28c23745-bf70-436c-b786-4c7cf917511a\")>, <selenium.webdriver.firefox.webelement.FirefoxWebElement (session=\"a837ed9f-17fd-48c0-960c-2f2310c86c21\", element=\"3a6ace6a-1e38-4d51-a77f-faa8a775a02c\")>, <selenium.webdriver.firefox.webelement.FirefoxWebElement (session=\"a837ed9f-17fd-48c0-960c-2f2310c86c21\", element=\"4bc0acd3-0985-4b08-bc66-44dd4441b483\")>, <selenium.webdriver.firefox.webelement.FirefoxWebElement (session=\"a837ed9f-17fd-48c0-960c-2f2310c86c21\", element=\"fef06067-b0f3-4d8f-a37c-0e1afde6069e\")>, <selenium.webdriver.firefox.webelement.FirefoxWebElement (session=\"a837ed9f-17fd-48c0-960c-2f2310c86c21\", element=\"fc37867e-4821-4b21-adb9-26a6e74f94b4\")>, <selenium.webdriver.firefox.webelement.FirefoxWebElement (session=\"a837ed9f-17fd-48c0-960c-2f2310c86c21\", element=\"9c7a020d-151a-44d0-af79-9fd0d107f9ab\")>, <selenium.webdriver.firefox.webelement.FirefoxWebElement (session=\"a837ed9f-17fd-48c0-960c-2f2310c86c21\", element=\"a977ca7e-fdea-4bb6-852d-ed001afaad00\")>, <selenium.webdriver.firefox.webelement.FirefoxWebElement (session=\"a837ed9f-17fd-48c0-960c-2f2310c86c21\", element=\"5d19ec7c-2a9e-45b4-9b47-f6b5f96546e4\")>, <selenium.webdriver.firefox.webelement.FirefoxWebElement (session=\"a837ed9f-17fd-48c0-960c-2f2310c86c21\", element=\"c261174a-b865-41e4-b18f-92a2af9bd180\")>]\n"
     ]
    }
   ],
   "source": [
    "#from selenium import webdriver\n",
    "#browser = webdriver.Firefox()  # launch firefox browser\n",
    "from selenium import webdriver\n",
    "import os\n",
    "path_tounzipfile='D:\\Data Science\\Python'\n",
    "os.chdir(path_tounzipfile)\n",
    "browser=webdriver.Firefox(path_tounzipfile)\n",
    "browser=webdriver.Firefox()\n",
    "\n",
    "\n",
    "browser.get('http://stackoverflow.com/questions?sort=votes')  # load url\n",
    "\n",
    "title = browser.find_element_by_css_selector('h1').text  # page title (first h1 element)\n",
    "print(title)\n",
    "\n",
    "questions = browser.find_elements_by_css_selector('.question-summary')  # question list\n",
    "print(questions)\n",
    "\n",
    "for question in questions:  # iterate over questions\n",
    "    question_title = question.find_element_by_css_selector('.summary h3 a').text\n",
    "    question_excerpt = question.find_element_by_css_selector('.summary .excerpt').text\n",
    "    question_vote = question.find_element_by_css_selector('.stats .vote .votes .vote-count-post').text "
   ]
  },
  {
   "cell_type": "code",
   "execution_count": 13,
   "metadata": {},
   "outputs": [
    {
     "name": "stdout",
     "output_type": "stream",
     "text": [
      "Collecting selenium\n",
      "  Using cached https://files.pythonhosted.org/packages/80/d6/4294f0b4bce4de0abf13e17190289f9d0613b0a44e5dd6a7f5ca98459853/selenium-3.141.0-py2.py3-none-any.whl\n",
      "Requirement already satisfied: urllib3 in c:\\users\\amruth pc\\anaconda3\\lib\\site-packages (from selenium) (1.24.2)\n",
      "Installing collected packages: selenium\n",
      "Successfully installed selenium-3.141.0\n"
     ]
    }
   ],
   "source": [
    "!pip install selenium"
   ]
  },
  {
   "cell_type": "code",
   "execution_count": null,
   "metadata": {},
   "outputs": [],
   "source": []
  }
 ],
 "metadata": {
  "kernelspec": {
   "display_name": "Python 3",
   "language": "python",
   "name": "python3"
  },
  "language_info": {
   "codemirror_mode": {
    "name": "ipython",
    "version": 3
   },
   "file_extension": ".py",
   "mimetype": "text/x-python",
   "name": "python",
   "nbconvert_exporter": "python",
   "pygments_lexer": "ipython3",
   "version": "3.7.3"
  }
 },
 "nbformat": 4,
 "nbformat_minor": 2
}
