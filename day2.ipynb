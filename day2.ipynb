{
 "cells": [
  {
   "cell_type": "code",
   "execution_count": 1,
   "metadata": {},
   "outputs": [],
   "source": [
    "from selenium import webdriver\n",
    "from bs4 import BeautifulSoup\n",
    "#import os\n",
    "#path_to_gecko=\"\"\n",
    "#os.chdir(path_to_gecko)\n",
    "#browser=webdriver.Firefox(path_to_gecko)\n",
    "browser=webdriver.Firefox()\n",
    "url=\"https://www.imdb.com/chart/toptv/?ref_=nv_tvv_250\"\n",
    "browser.get(url)"
   ]
  },
  {
   "cell_type": "code",
   "execution_count": 2,
   "metadata": {},
   "outputs": [],
   "source": [
    "html=browser.page_source\n",
    "soup=BeautifulSoup(html,'html.parser')"
   ]
  },
  {
   "cell_type": "code",
   "execution_count": 3,
   "metadata": {},
   "outputs": [],
   "source": [
    "tables=soup.find_all(\"table\",class_=\"chart full-width\")"
   ]
  },
  {
   "cell_type": "code",
   "execution_count": 4,
   "metadata": {},
   "outputs": [
    {
     "data": {
      "text/plain": [
       "1"
      ]
     },
     "execution_count": 4,
     "metadata": {},
     "output_type": "execute_result"
    }
   ],
   "source": [
    "len(tables)"
   ]
  },
  {
   "cell_type": "code",
   "execution_count": 5,
   "metadata": {},
   "outputs": [],
   "source": [
    "rows=tables[0].find_all(\"tr\")"
   ]
  },
  {
   "cell_type": "code",
   "execution_count": 6,
   "metadata": {},
   "outputs": [
    {
     "data": {
      "text/plain": [
       "<tr>\n",
       "<th></th>\n",
       "<th>Rank &amp; Title</th>\n",
       "<th>IMDb Rating</th>\n",
       "<th>Your Rating</th>\n",
       "<th></th>\n",
       "</tr>"
      ]
     },
     "execution_count": 6,
     "metadata": {},
     "output_type": "execute_result"
    }
   ],
   "source": [
    "rows[0]"
   ]
  },
  {
   "cell_type": "code",
   "execution_count": 12,
   "metadata": {},
   "outputs": [
    {
     "data": {
      "text/plain": [
       "'Planet Earth II'"
      ]
     },
     "execution_count": 12,
     "metadata": {},
     "output_type": "execute_result"
    }
   ],
   "source": [
    "rows[1].find_all(\"td\")[1].a.text"
   ]
  },
  {
   "cell_type": "code",
   "execution_count": 13,
   "metadata": {},
   "outputs": [
    {
     "data": {
      "text/plain": [
       "'(2016)'"
      ]
     },
     "execution_count": 13,
     "metadata": {},
     "output_type": "execute_result"
    }
   ],
   "source": [
    "rows[1].find_all(\"td\")[1].span.text"
   ]
  },
  {
   "cell_type": "code",
   "execution_count": 15,
   "metadata": {},
   "outputs": [
    {
     "data": {
      "text/plain": [
       "'9.5'"
      ]
     },
     "execution_count": 15,
     "metadata": {},
     "output_type": "execute_result"
    }
   ],
   "source": [
    "rows[1].find_all(\"td\")[2].strong.text"
   ]
  },
  {
   "cell_type": "code",
   "execution_count": 19,
   "metadata": {},
   "outputs": [],
   "source": [
    "title=[]\n",
    "year=[]\n",
    "rating=[]\n",
    "for i in rows[1:]:\n",
    "    title.append(i.find_all(\"td\")[1].a.text)\n",
    "    year.append(i.find_all(\"td\")[1].span.text)\n",
    "    rating.append(i.find_all(\"td\")[2].strong.text)"
   ]
  },
  {
   "cell_type": "code",
   "execution_count": 20,
   "metadata": {},
   "outputs": [],
   "source": [
    "import pandas as pd\n",
    "table=pd.DataFrame({'title':title,'year':year,'rating':rating})"
   ]
  },
  {
   "cell_type": "code",
   "execution_count": 24,
   "metadata": {},
   "outputs": [],
   "source": [
    "table['year']=table['year'].str.replace(\"(\",\"\").str.replace(\")\",\"\").astype('float')"
   ]
  },
  {
   "cell_type": "code",
   "execution_count": 25,
   "metadata": {},
   "outputs": [
    {
     "data": {
      "text/html": [
       "<div>\n",
       "<style scoped>\n",
       "    .dataframe tbody tr th:only-of-type {\n",
       "        vertical-align: middle;\n",
       "    }\n",
       "\n",
       "    .dataframe tbody tr th {\n",
       "        vertical-align: top;\n",
       "    }\n",
       "\n",
       "    .dataframe thead th {\n",
       "        text-align: right;\n",
       "    }\n",
       "</style>\n",
       "<table border=\"1\" class=\"dataframe\">\n",
       "  <thead>\n",
       "    <tr style=\"text-align: right;\">\n",
       "      <th></th>\n",
       "      <th>title</th>\n",
       "      <th>year</th>\n",
       "      <th>rating</th>\n",
       "    </tr>\n",
       "  </thead>\n",
       "  <tbody>\n",
       "    <tr>\n",
       "      <th>0</th>\n",
       "      <td>Planet Earth II</td>\n",
       "      <td>2016.0</td>\n",
       "      <td>9.5</td>\n",
       "    </tr>\n",
       "    <tr>\n",
       "      <th>1</th>\n",
       "      <td>Planet Earth</td>\n",
       "      <td>2006.0</td>\n",
       "      <td>9.4</td>\n",
       "    </tr>\n",
       "    <tr>\n",
       "      <th>2</th>\n",
       "      <td>Band of Brothers</td>\n",
       "      <td>2001.0</td>\n",
       "      <td>9.4</td>\n",
       "    </tr>\n",
       "    <tr>\n",
       "      <th>3</th>\n",
       "      <td>Chernobyl</td>\n",
       "      <td>2019.0</td>\n",
       "      <td>9.4</td>\n",
       "    </tr>\n",
       "    <tr>\n",
       "      <th>4</th>\n",
       "      <td>Breaking Bad</td>\n",
       "      <td>2008.0</td>\n",
       "      <td>9.4</td>\n",
       "    </tr>\n",
       "  </tbody>\n",
       "</table>\n",
       "</div>"
      ],
      "text/plain": [
       "              title    year rating\n",
       "0   Planet Earth II  2016.0    9.5\n",
       "1      Planet Earth  2006.0    9.4\n",
       "2  Band of Brothers  2001.0    9.4\n",
       "3         Chernobyl  2019.0    9.4\n",
       "4      Breaking Bad  2008.0    9.4"
      ]
     },
     "execution_count": 25,
     "metadata": {},
     "output_type": "execute_result"
    }
   ],
   "source": [
    "table.head()"
   ]
  },
  {
   "cell_type": "code",
   "execution_count": 26,
   "metadata": {},
   "outputs": [],
   "source": [
    "### Wikipedia Scrape\n",
    "url=\"https://en.wikipedia.org/wiki/List_of_terrorist_incidents_in_August_2019\"\n",
    "browser.get(url)\n",
    "html=browser.page_source\n",
    "soup=BeautifulSoup(html,'html.parser')"
   ]
  },
  {
   "cell_type": "code",
   "execution_count": 29,
   "metadata": {},
   "outputs": [],
   "source": [
    "tables=soup.find_all(\"table\",class_=\"wikitable\")"
   ]
  },
  {
   "cell_type": "code",
   "execution_count": 30,
   "metadata": {},
   "outputs": [
    {
     "data": {
      "text/plain": [
       "1"
      ]
     },
     "execution_count": 30,
     "metadata": {},
     "output_type": "execute_result"
    }
   ],
   "source": [
    "len(tables)"
   ]
  },
  {
   "cell_type": "code",
   "execution_count": 31,
   "metadata": {},
   "outputs": [],
   "source": [
    "rows=tables[0].find_all(\"tr\")"
   ]
  },
  {
   "cell_type": "code",
   "execution_count": 49,
   "metadata": {},
   "outputs": [],
   "source": [
    "date=[]\n",
    "typ=[]\n",
    "dead=[]\n",
    "inj=[]\n",
    "loc=[]\n",
    "det=[]\n",
    "perp=[]\n",
    "part=[]\n",
    "for i in rows[1:]:\n",
    "    tds=i.find_all(\"td\")\n",
    "    date.append(tds[0].text.strip())\n",
    "    typ.append(tds[1].text.strip())\n",
    "    dead.append(tds[2].text.strip())\n",
    "    inj.append(tds[3].text.strip())\n",
    "    loc.append(tds[4].text.strip())\n",
    "    det.append(tds[5].text.strip())\n",
    "    perp.append(tds[6].text.strip())\n",
    "    part.append(tds[7].text.strip())"
   ]
  },
  {
   "cell_type": "code",
   "execution_count": 51,
   "metadata": {},
   "outputs": [],
   "source": [
    "table=pd.DataFrame({'date':date,'type':typ,'dead':dead, \\\n",
    "                   'injured':inj,'location':loc,'details':det, \\\n",
    "                   'perpetrator':perp,'partof':part})"
   ]
  },
  {
   "cell_type": "code",
   "execution_count": 53,
   "metadata": {},
   "outputs": [
    {
     "data": {
      "text/html": [
       "<div>\n",
       "<style scoped>\n",
       "    .dataframe tbody tr th:only-of-type {\n",
       "        vertical-align: middle;\n",
       "    }\n",
       "\n",
       "    .dataframe tbody tr th {\n",
       "        vertical-align: top;\n",
       "    }\n",
       "\n",
       "    .dataframe thead th {\n",
       "        text-align: right;\n",
       "    }\n",
       "</style>\n",
       "<table border=\"1\" class=\"dataframe\">\n",
       "  <thead>\n",
       "    <tr style=\"text-align: right;\">\n",
       "      <th></th>\n",
       "      <th>date</th>\n",
       "      <th>type</th>\n",
       "      <th>dead</th>\n",
       "      <th>injured</th>\n",
       "      <th>location</th>\n",
       "      <th>details</th>\n",
       "      <th>perpetrator</th>\n",
       "      <th>partof</th>\n",
       "    </tr>\n",
       "  </thead>\n",
       "  <tbody>\n",
       "    <tr>\n",
       "      <th>0</th>\n",
       "      <td>1</td>\n",
       "      <td>Suicide car bombing</td>\n",
       "      <td>13 (+1)</td>\n",
       "      <td>Dozens</td>\n",
       "      <td>Aden, Yemen</td>\n",
       "      <td>A suicide car bomber blew himself up outside a...</td>\n",
       "      <td>Islamic State</td>\n",
       "      <td>Yemeni Civil War</td>\n",
       "    </tr>\n",
       "  </tbody>\n",
       "</table>\n",
       "</div>"
      ],
      "text/plain": [
       "  date                 type     dead injured     location  \\\n",
       "0    1  Suicide car bombing  13 (+1)  Dozens  Aden, Yemen   \n",
       "\n",
       "                                             details    perpetrator  \\\n",
       "0  A suicide car bomber blew himself up outside a...  Islamic State   \n",
       "\n",
       "             partof  \n",
       "0  Yemeni Civil War  "
      ]
     },
     "execution_count": 53,
     "metadata": {},
     "output_type": "execute_result"
    }
   ],
   "source": [
    "table.head(1)"
   ]
  },
  {
   "cell_type": "code",
   "execution_count": 95,
   "metadata": {},
   "outputs": [],
   "source": [
    "def get_data(url):\n",
    "    browser.get(url)\n",
    "    html=browser.page_source\n",
    "    soup=BeautifulSoup(html,'html.parser')\n",
    "    tables=soup.find_all(\"table\",class_=\"wikitable\")\n",
    "    rows=tables[0].find_all(\"tr\")\n",
    "    date=[]\n",
    "    typ=[]\n",
    "    dead=[]\n",
    "    inj=[]\n",
    "    loc=[]\n",
    "    det=[]\n",
    "    perp=[]\n",
    "    part=[]\n",
    "    for i in rows[1:]:\n",
    "        tds=i.find_all(\"td\")\n",
    "        date.append(tds[0].text.strip())\n",
    "        typ.append(tds[1].text.strip())\n",
    "        dead.append(tds[2].text.strip())\n",
    "        inj.append(tds[3].text.strip())\n",
    "        loc.append(tds[4].text.strip())\n",
    "        det.append(tds[5].text.strip())\n",
    "        perp.append(tds[6].text.strip())\n",
    "        try:\n",
    "            part.append(tds[7].text.strip())\n",
    "        except:\n",
    "            part.append(\"Data not Available\")\n",
    "    table=pd.DataFrame({'date':date,'type':typ,'dead':dead, \\\n",
    "                   'injured':inj,'location':loc,'details':det, \\\n",
    "                   'perpetrator':perp,'partof':part})\n",
    "    table['url']=url\n",
    "    return table"
   ]
  },
  {
   "cell_type": "code",
   "execution_count": 96,
   "metadata": {},
   "outputs": [],
   "source": [
    "url=\"https://en.wikipedia.org/wiki/List_of_terrorist_incidents_in_July_2019\""
   ]
  },
  {
   "cell_type": "code",
   "execution_count": 97,
   "metadata": {},
   "outputs": [
    {
     "data": {
      "text/html": [
       "<div>\n",
       "<style scoped>\n",
       "    .dataframe tbody tr th:only-of-type {\n",
       "        vertical-align: middle;\n",
       "    }\n",
       "\n",
       "    .dataframe tbody tr th {\n",
       "        vertical-align: top;\n",
       "    }\n",
       "\n",
       "    .dataframe thead th {\n",
       "        text-align: right;\n",
       "    }\n",
       "</style>\n",
       "<table border=\"1\" class=\"dataframe\">\n",
       "  <thead>\n",
       "    <tr style=\"text-align: right;\">\n",
       "      <th></th>\n",
       "      <th>date</th>\n",
       "      <th>type</th>\n",
       "      <th>dead</th>\n",
       "      <th>injured</th>\n",
       "      <th>location</th>\n",
       "      <th>details</th>\n",
       "      <th>perpetrator</th>\n",
       "      <th>partof</th>\n",
       "      <th>url</th>\n",
       "    </tr>\n",
       "  </thead>\n",
       "  <tbody>\n",
       "    <tr>\n",
       "      <th>0</th>\n",
       "      <td>1</td>\n",
       "      <td>Car bombing, shooting</td>\n",
       "      <td>40 (+5)</td>\n",
       "      <td>100+</td>\n",
       "      <td>Kabul, Afghanistan</td>\n",
       "      <td>1 July 2019 Kabul attack: 40 people, 6 securit...</td>\n",
       "      <td>Taliban</td>\n",
       "      <td>War in Afghanistan</td>\n",
       "      <td>https://en.wikipedia.org/wiki/List_of_terroris...</td>\n",
       "    </tr>\n",
       "    <tr>\n",
       "      <th>1</th>\n",
       "      <td>3</td>\n",
       "      <td>Attack</td>\n",
       "      <td>7</td>\n",
       "      <td>0</td>\n",
       "      <td>Cabo Delgado Province, Mozambique</td>\n",
       "      <td>Islamist insurgents killed six civilians and a...</td>\n",
       "      <td>Islamic State</td>\n",
       "      <td>Islamist insurgency in Mozambique</td>\n",
       "      <td>https://en.wikipedia.org/wiki/List_of_terroris...</td>\n",
       "    </tr>\n",
       "    <tr>\n",
       "      <th>2</th>\n",
       "      <td>3</td>\n",
       "      <td>Attempted suicide bombing</td>\n",
       "      <td>0</td>\n",
       "      <td>0 (+1)</td>\n",
       "      <td>Kabul, Afghanistan</td>\n",
       "      <td>Security forces shot and arrested a suicide bo...</td>\n",
       "      <td>Unknown</td>\n",
       "      <td>War in Afghanistan</td>\n",
       "      <td>https://en.wikipedia.org/wiki/List_of_terroris...</td>\n",
       "    </tr>\n",
       "    <tr>\n",
       "      <th>3</th>\n",
       "      <td>5</td>\n",
       "      <td>Bombing</td>\n",
       "      <td>2</td>\n",
       "      <td>20</td>\n",
       "      <td>Ghazni, Afghanistan</td>\n",
       "      <td>At least two people were killed and over 20 in...</td>\n",
       "      <td>Islamic State</td>\n",
       "      <td>War in Afghanistan</td>\n",
       "      <td>https://en.wikipedia.org/wiki/List_of_terroris...</td>\n",
       "    </tr>\n",
       "    <tr>\n",
       "      <th>4</th>\n",
       "      <td>5</td>\n",
       "      <td>Car bombing</td>\n",
       "      <td>3</td>\n",
       "      <td>0</td>\n",
       "      <td>Reyhanlı, Turkey</td>\n",
       "      <td>2019 Reyhanlı car bombing: A car bombing attac...</td>\n",
       "      <td>Grey Wolves (organization) (suspected)</td>\n",
       "      <td>Terrorism in Turkey</td>\n",
       "      <td>https://en.wikipedia.org/wiki/List_of_terroris...</td>\n",
       "    </tr>\n",
       "    <tr>\n",
       "      <th>5</th>\n",
       "      <td>7</td>\n",
       "      <td>Bombing, shootings</td>\n",
       "      <td>0</td>\n",
       "      <td>4</td>\n",
       "      <td>Khanaqin, Iraq</td>\n",
       "      <td>A bombing damaged a truck near Khanaqin. After...</td>\n",
       "      <td>Islamic State</td>\n",
       "      <td>Iraqi insurgency</td>\n",
       "      <td>https://en.wikipedia.org/wiki/List_of_terroris...</td>\n",
       "    </tr>\n",
       "    <tr>\n",
       "      <th>6</th>\n",
       "      <td>11</td>\n",
       "      <td>Bombing</td>\n",
       "      <td>0</td>\n",
       "      <td>11</td>\n",
       "      <td>Qamishli, Syria</td>\n",
       "      <td>A car bomb exploded near a church in the Chris...</td>\n",
       "      <td>Islamic State</td>\n",
       "      <td>Syrian Civil War</td>\n",
       "      <td>https://en.wikipedia.org/wiki/List_of_terroris...</td>\n",
       "    </tr>\n",
       "    <tr>\n",
       "      <th>7</th>\n",
       "      <td>11</td>\n",
       "      <td>Car bombing</td>\n",
       "      <td>13</td>\n",
       "      <td>30+</td>\n",
       "      <td>Afrin, Syria</td>\n",
       "      <td>A car bombing occurred on a Turanda highway ch...</td>\n",
       "      <td>Islamic State</td>\n",
       "      <td>Syrian Civil War</td>\n",
       "      <td>https://en.wikipedia.org/wiki/List_of_terroris...</td>\n",
       "    </tr>\n",
       "    <tr>\n",
       "      <th>8</th>\n",
       "      <td>12</td>\n",
       "      <td>Suicide bombing</td>\n",
       "      <td>5–10</td>\n",
       "      <td>40</td>\n",
       "      <td>Pachir Aw Agam District, Afghanistan</td>\n",
       "      <td>5-10 people are killed when a child suicide bo...</td>\n",
       "      <td>Islamic State (suspected)</td>\n",
       "      <td>War in Afghanistan</td>\n",
       "      <td>https://en.wikipedia.org/wiki/List_of_terroris...</td>\n",
       "    </tr>\n",
       "    <tr>\n",
       "      <th>9</th>\n",
       "      <td>12</td>\n",
       "      <td>Suicide car bombing, shooting</td>\n",
       "      <td>26 (+4)</td>\n",
       "      <td>56</td>\n",
       "      <td>Kismayo, Somalia</td>\n",
       "      <td>Asasey hotel attack: Four gunmen storm the Asa...</td>\n",
       "      <td>Al-Shabaab</td>\n",
       "      <td>Somali Civil War (2009–present)</td>\n",
       "      <td>https://en.wikipedia.org/wiki/List_of_terroris...</td>\n",
       "    </tr>\n",
       "    <tr>\n",
       "      <th>10</th>\n",
       "      <td>15</td>\n",
       "      <td>Bombing</td>\n",
       "      <td>11</td>\n",
       "      <td>35</td>\n",
       "      <td>Khakrez District, Kandahar, Afghanistan</td>\n",
       "      <td>11 pilgrims are killed and another 35 injured ...</td>\n",
       "      <td>Taliban (suspected)</td>\n",
       "      <td>War in Afghanistan</td>\n",
       "      <td>https://en.wikipedia.org/wiki/List_of_terroris...</td>\n",
       "    </tr>\n",
       "    <tr>\n",
       "      <th>11</th>\n",
       "      <td>15</td>\n",
       "      <td>Bombing</td>\n",
       "      <td>14</td>\n",
       "      <td>unknown</td>\n",
       "      <td>Pul-e-Alam, Logar, Afghanistan</td>\n",
       "      <td>3 Taliban fighters and 11 civilians die from a...</td>\n",
       "      <td>Taliban</td>\n",
       "      <td>War in Afghanistan</td>\n",
       "      <td>https://en.wikipedia.org/wiki/List_of_terroris...</td>\n",
       "    </tr>\n",
       "    <tr>\n",
       "      <th>12</th>\n",
       "      <td>15</td>\n",
       "      <td>Suicide bombings</td>\n",
       "      <td>5 (+2)</td>\n",
       "      <td>14</td>\n",
       "      <td>Baghdad, Iraq</td>\n",
       "      <td>Five people were killed and 14 others were inj...</td>\n",
       "      <td>Islamic State (suspected)</td>\n",
       "      <td>Iraqi insurgency</td>\n",
       "      <td>https://en.wikipedia.org/wiki/List_of_terroris...</td>\n",
       "    </tr>\n",
       "    <tr>\n",
       "      <th>13</th>\n",
       "      <td>19</td>\n",
       "      <td>Bombing</td>\n",
       "      <td>8</td>\n",
       "      <td>33</td>\n",
       "      <td>Kabul, Afghanistan</td>\n",
       "      <td>Kabul University bombing: A bombing at Kabul U...</td>\n",
       "      <td>Unknown</td>\n",
       "      <td>War in Afghanistan</td>\n",
       "      <td>https://en.wikipedia.org/wiki/List_of_terroris...</td>\n",
       "    </tr>\n",
       "    <tr>\n",
       "      <th>14</th>\n",
       "      <td>24</td>\n",
       "      <td>Suicide Bombing</td>\n",
       "      <td>7 (+1)</td>\n",
       "      <td>9</td>\n",
       "      <td>Mogadishu, Somalia</td>\n",
       "      <td>24 July 2019 Mogadishu bombing: A blind female...</td>\n",
       "      <td>Al-Shabaab</td>\n",
       "      <td>Somali Civil War (2009–present)</td>\n",
       "      <td>https://en.wikipedia.org/wiki/List_of_terroris...</td>\n",
       "    </tr>\n",
       "    <tr>\n",
       "      <th>15</th>\n",
       "      <td>25</td>\n",
       "      <td>Bombings</td>\n",
       "      <td>15</td>\n",
       "      <td>45</td>\n",
       "      <td>Kabul, Afghanistan</td>\n",
       "      <td>25 July 2019 Kabul bombings: A triple bombing ...</td>\n",
       "      <td>Islamic State (suspected)</td>\n",
       "      <td>War in Afghanistan</td>\n",
       "      <td>https://en.wikipedia.org/wiki/List_of_terroris...</td>\n",
       "    </tr>\n",
       "    <tr>\n",
       "      <th>16</th>\n",
       "      <td>25</td>\n",
       "      <td>Bombing</td>\n",
       "      <td>6–10</td>\n",
       "      <td>3–6</td>\n",
       "      <td>Khogyani District, Nangarhar, Afghanistan</td>\n",
       "      <td>6-10 people are killed and 3-6 injured when a ...</td>\n",
       "      <td>Unknown</td>\n",
       "      <td>War in Afghanistan</td>\n",
       "      <td>https://en.wikipedia.org/wiki/List_of_terroris...</td>\n",
       "    </tr>\n",
       "    <tr>\n",
       "      <th>17</th>\n",
       "      <td>27</td>\n",
       "      <td>Shooting</td>\n",
       "      <td>65</td>\n",
       "      <td>10</td>\n",
       "      <td>Nganzai, Nigeria</td>\n",
       "      <td>Nganzai funeral attack: 65 people were killed ...</td>\n",
       "      <td>Boko Haram</td>\n",
       "      <td>Boko Haram insurgency</td>\n",
       "      <td>https://en.wikipedia.org/wiki/List_of_terroris...</td>\n",
       "    </tr>\n",
       "    <tr>\n",
       "      <th>18</th>\n",
       "      <td>31</td>\n",
       "      <td>Bombing</td>\n",
       "      <td>35</td>\n",
       "      <td>27</td>\n",
       "      <td>Farah, Afghanistan</td>\n",
       "      <td>2019 Farah bombing: A roadside bomb kills 35 a...</td>\n",
       "      <td>Taliban</td>\n",
       "      <td>War in Afghanistan</td>\n",
       "      <td>https://en.wikipedia.org/wiki/List_of_terroris...</td>\n",
       "    </tr>\n",
       "  </tbody>\n",
       "</table>\n",
       "</div>"
      ],
      "text/plain": [
       "   date                           type     dead  injured  \\\n",
       "0     1          Car bombing, shooting  40 (+5)     100+   \n",
       "1     3                         Attack        7        0   \n",
       "2     3      Attempted suicide bombing        0   0 (+1)   \n",
       "3     5                        Bombing        2       20   \n",
       "4     5                    Car bombing        3        0   \n",
       "5     7             Bombing, shootings        0        4   \n",
       "6    11                        Bombing        0       11   \n",
       "7    11                    Car bombing       13      30+   \n",
       "8    12                Suicide bombing     5–10       40   \n",
       "9    12  Suicide car bombing, shooting  26 (+4)       56   \n",
       "10   15                        Bombing       11       35   \n",
       "11   15                        Bombing       14  unknown   \n",
       "12   15               Suicide bombings   5 (+2)       14   \n",
       "13   19                        Bombing        8       33   \n",
       "14   24                Suicide Bombing   7 (+1)        9   \n",
       "15   25                       Bombings       15       45   \n",
       "16   25                        Bombing     6–10      3–6   \n",
       "17   27                       Shooting       65       10   \n",
       "18   31                        Bombing       35       27   \n",
       "\n",
       "                                     location  \\\n",
       "0                          Kabul, Afghanistan   \n",
       "1           Cabo Delgado Province, Mozambique   \n",
       "2                          Kabul, Afghanistan   \n",
       "3                         Ghazni, Afghanistan   \n",
       "4                            Reyhanlı, Turkey   \n",
       "5                              Khanaqin, Iraq   \n",
       "6                             Qamishli, Syria   \n",
       "7                                Afrin, Syria   \n",
       "8        Pachir Aw Agam District, Afghanistan   \n",
       "9                            Kismayo, Somalia   \n",
       "10    Khakrez District, Kandahar, Afghanistan   \n",
       "11             Pul-e-Alam, Logar, Afghanistan   \n",
       "12                              Baghdad, Iraq   \n",
       "13                         Kabul, Afghanistan   \n",
       "14                         Mogadishu, Somalia   \n",
       "15                         Kabul, Afghanistan   \n",
       "16  Khogyani District, Nangarhar, Afghanistan   \n",
       "17                           Nganzai, Nigeria   \n",
       "18                         Farah, Afghanistan   \n",
       "\n",
       "                                              details  \\\n",
       "0   1 July 2019 Kabul attack: 40 people, 6 securit...   \n",
       "1   Islamist insurgents killed six civilians and a...   \n",
       "2   Security forces shot and arrested a suicide bo...   \n",
       "3   At least two people were killed and over 20 in...   \n",
       "4   2019 Reyhanlı car bombing: A car bombing attac...   \n",
       "5   A bombing damaged a truck near Khanaqin. After...   \n",
       "6   A car bomb exploded near a church in the Chris...   \n",
       "7   A car bombing occurred on a Turanda highway ch...   \n",
       "8   5-10 people are killed when a child suicide bo...   \n",
       "9   Asasey hotel attack: Four gunmen storm the Asa...   \n",
       "10  11 pilgrims are killed and another 35 injured ...   \n",
       "11  3 Taliban fighters and 11 civilians die from a...   \n",
       "12  Five people were killed and 14 others were inj...   \n",
       "13  Kabul University bombing: A bombing at Kabul U...   \n",
       "14  24 July 2019 Mogadishu bombing: A blind female...   \n",
       "15  25 July 2019 Kabul bombings: A triple bombing ...   \n",
       "16  6-10 people are killed and 3-6 injured when a ...   \n",
       "17  Nganzai funeral attack: 65 people were killed ...   \n",
       "18  2019 Farah bombing: A roadside bomb kills 35 a...   \n",
       "\n",
       "                               perpetrator                             partof  \\\n",
       "0                                  Taliban                 War in Afghanistan   \n",
       "1                            Islamic State  Islamist insurgency in Mozambique   \n",
       "2                                  Unknown                 War in Afghanistan   \n",
       "3                            Islamic State                 War in Afghanistan   \n",
       "4   Grey Wolves (organization) (suspected)                Terrorism in Turkey   \n",
       "5                            Islamic State                   Iraqi insurgency   \n",
       "6                            Islamic State                   Syrian Civil War   \n",
       "7                            Islamic State                   Syrian Civil War   \n",
       "8                Islamic State (suspected)                 War in Afghanistan   \n",
       "9                               Al-Shabaab    Somali Civil War (2009–present)   \n",
       "10                     Taliban (suspected)                 War in Afghanistan   \n",
       "11                                 Taliban                 War in Afghanistan   \n",
       "12               Islamic State (suspected)                   Iraqi insurgency   \n",
       "13                                 Unknown                 War in Afghanistan   \n",
       "14                              Al-Shabaab    Somali Civil War (2009–present)   \n",
       "15               Islamic State (suspected)                 War in Afghanistan   \n",
       "16                                 Unknown                 War in Afghanistan   \n",
       "17                              Boko Haram              Boko Haram insurgency   \n",
       "18                                 Taliban                 War in Afghanistan   \n",
       "\n",
       "                                                  url  \n",
       "0   https://en.wikipedia.org/wiki/List_of_terroris...  \n",
       "1   https://en.wikipedia.org/wiki/List_of_terroris...  \n",
       "2   https://en.wikipedia.org/wiki/List_of_terroris...  \n",
       "3   https://en.wikipedia.org/wiki/List_of_terroris...  \n",
       "4   https://en.wikipedia.org/wiki/List_of_terroris...  \n",
       "5   https://en.wikipedia.org/wiki/List_of_terroris...  \n",
       "6   https://en.wikipedia.org/wiki/List_of_terroris...  \n",
       "7   https://en.wikipedia.org/wiki/List_of_terroris...  \n",
       "8   https://en.wikipedia.org/wiki/List_of_terroris...  \n",
       "9   https://en.wikipedia.org/wiki/List_of_terroris...  \n",
       "10  https://en.wikipedia.org/wiki/List_of_terroris...  \n",
       "11  https://en.wikipedia.org/wiki/List_of_terroris...  \n",
       "12  https://en.wikipedia.org/wiki/List_of_terroris...  \n",
       "13  https://en.wikipedia.org/wiki/List_of_terroris...  \n",
       "14  https://en.wikipedia.org/wiki/List_of_terroris...  \n",
       "15  https://en.wikipedia.org/wiki/List_of_terroris...  \n",
       "16  https://en.wikipedia.org/wiki/List_of_terroris...  \n",
       "17  https://en.wikipedia.org/wiki/List_of_terroris...  \n",
       "18  https://en.wikipedia.org/wiki/List_of_terroris...  "
      ]
     },
     "execution_count": 97,
     "metadata": {},
     "output_type": "execute_result"
    }
   ],
   "source": [
    "get_data(url)"
   ]
  },
  {
   "cell_type": "code",
   "execution_count": 57,
   "metadata": {},
   "outputs": [],
   "source": [
    "link='''<li><a href=\"/wiki/Sri_Lanka_and_state_terrorism\" title=\"Sri Lanka and state terrorism\">Sri Lanka</a></li>'''"
   ]
  },
  {
   "cell_type": "code",
   "execution_count": 66,
   "metadata": {},
   "outputs": [],
   "source": [
    "li=BeautifulSoup(link,'html.parser')"
   ]
  },
  {
   "cell_type": "code",
   "execution_count": 67,
   "metadata": {},
   "outputs": [
    {
     "data": {
      "text/plain": [
       "'/wiki/Sri_Lanka_and_state_terrorism'"
      ]
     },
     "execution_count": 67,
     "metadata": {},
     "output_type": "execute_result"
    }
   ],
   "source": [
    "li.a['href']"
   ]
  },
  {
   "cell_type": "code",
   "execution_count": 68,
   "metadata": {},
   "outputs": [],
   "source": [
    "url=\"https://en.wikipedia.org/wiki/List_of_terrorist_incidents\"\n",
    "browser.get(url)\n",
    "html=browser.page_source\n",
    "soup=BeautifulSoup(html,'html.parser')"
   ]
  },
  {
   "cell_type": "code",
   "execution_count": 70,
   "metadata": {},
   "outputs": [],
   "source": [
    "divs=soup.find_all(\"div\",class_=\"div-col columns column-width\")"
   ]
  },
  {
   "cell_type": "code",
   "execution_count": 71,
   "metadata": {},
   "outputs": [
    {
     "data": {
      "text/plain": [
       "2"
      ]
     },
     "execution_count": 71,
     "metadata": {},
     "output_type": "execute_result"
    }
   ],
   "source": [
    "len(divs)"
   ]
  },
  {
   "cell_type": "code",
   "execution_count": 77,
   "metadata": {},
   "outputs": [],
   "source": [
    "partial_links=[]\n",
    "for i in divs[0].find_all(\"li\"):\n",
    "    partial_links.append(i.a['href'])"
   ]
  },
  {
   "cell_type": "code",
   "execution_count": 79,
   "metadata": {},
   "outputs": [],
   "source": [
    "partial_links=pd.Series(partial_links)"
   ]
  },
  {
   "cell_type": "code",
   "execution_count": 82,
   "metadata": {},
   "outputs": [
    {
     "data": {
      "text/plain": [
       "49    /wiki/List_of_terrorist_incidents_in_January_2015\n",
       "dtype: object"
      ]
     },
     "execution_count": 82,
     "metadata": {},
     "output_type": "execute_result"
    }
   ],
   "source": [
    "partial_links[partial_links==\"/wiki/List_of_terrorist_incidents_in_January_2015\"]"
   ]
  },
  {
   "cell_type": "code",
   "execution_count": 88,
   "metadata": {},
   "outputs": [],
   "source": [
    "base_url=\"https://en.wikipedia.org{}\""
   ]
  },
  {
   "cell_type": "code",
   "execution_count": 98,
   "metadata": {},
   "outputs": [],
   "source": [
    "master={}\n",
    "for i in partial_links.iloc[49:]:\n",
    "    url=base_url.format(i)\n",
    "    master[i]=get_data(url)"
   ]
  },
  {
   "cell_type": "code",
   "execution_count": 99,
   "metadata": {},
   "outputs": [],
   "source": [
    "total=pd.concat([master[i] for i in master],axis=0)"
   ]
  },
  {
   "cell_type": "code",
   "execution_count": 121,
   "metadata": {},
   "outputs": [],
   "source": [
    "def get_month(x):\n",
    "    return x.split(\"_\")[-2]"
   ]
  },
  {
   "cell_type": "code",
   "execution_count": 124,
   "metadata": {},
   "outputs": [],
   "source": [
    "#list(map(get_month,total['url'].tolist()))"
   ]
  },
  {
   "cell_type": "code",
   "execution_count": 117,
   "metadata": {},
   "outputs": [],
   "source": [
    "total['month']=total['url'].map(lambda x: x.split(\"_\")[-2])"
   ]
  },
  {
   "cell_type": "code",
   "execution_count": 113,
   "metadata": {},
   "outputs": [],
   "source": [
    "total['year']=total['url'].map(lambda x: x.split(\"_\")[-1])"
   ]
  },
  {
   "cell_type": "code",
   "execution_count": 126,
   "metadata": {},
   "outputs": [],
   "source": [
    "total['country']=total['location'].map(lambda x:x.split(\",\")[-1])"
   ]
  },
  {
   "cell_type": "code",
   "execution_count": 132,
   "metadata": {},
   "outputs": [],
   "source": [
    "import re"
   ]
  },
  {
   "cell_type": "code",
   "execution_count": 135,
   "metadata": {},
   "outputs": [],
   "source": [
    "pattern=re.compile(r'\\d{1,4}')"
   ]
  },
  {
   "cell_type": "code",
   "execution_count": 141,
   "metadata": {},
   "outputs": [],
   "source": [
    "import numpy as np\n",
    "def get_numbers(x):\n",
    "    match=re.findall(pattern,x)\n",
    "    if len(match)==0:\n",
    "        return np.nan\n",
    "    elif len(match)>1:\n",
    "        return float(match[-1])\n",
    "    else:\n",
    "        return float(match[0])    "
   ]
  },
  {
   "cell_type": "code",
   "execution_count": 143,
   "metadata": {},
   "outputs": [],
   "source": [
    "total['d_cleaned']=total['dead'].map(get_numbers)"
   ]
  },
  {
   "cell_type": "code",
   "execution_count": 144,
   "metadata": {},
   "outputs": [
    {
     "data": {
      "text/plain": [
       "month\n",
       "April        4.916933\n",
       "August       4.794275\n",
       "December     3.811723\n",
       "February     4.892628\n",
       "January      8.060484\n",
       "July         5.147193\n",
       "June         6.696406\n",
       "March        4.584691\n",
       "May          5.441420\n",
       "November     6.040268\n",
       "October      7.601386\n",
       "September    4.708333\n",
       "Name: d_cleaned, dtype: float64"
      ]
     },
     "execution_count": 144,
     "metadata": {},
     "output_type": "execute_result"
    }
   ],
   "source": [
    "total.groupby('month')['d_cleaned'].mean()"
   ]
  },
  {
   "cell_type": "code",
   "execution_count": 146,
   "metadata": {},
   "outputs": [
    {
     "data": {
      "text/plain": [
       "array(['10+', '3', '2', '0', 'Unknown', '6', '4', '8', '31', 'n/a', '5',\n",
       "       '21', '1', '66', '11', '9', '36', '20+', '46', '18', '12', '',\n",
       "       '48', '108', '500+', '17', '26', '60', '19', '10–12', '7',\n",
       "       'unknown', '139', 'Dozens', '1 (+2)', '70', '40+', '10', '351',\n",
       "       '25', '28', '79', '45', '55', '20', '1 (+1)', '115', '14 (+2)',\n",
       "       '16', '15', '37', '30', '13', '42', '90+', '63', '27', '100', '40',\n",
       "       '300+', '24', '227', '34', '51', '22', '67+', '32', '80', '81',\n",
       "       '130', '104', '50', '3 (+1)', '80+', '212', '101+', '123', '29',\n",
       "       '60+', '100+', '92', '70+', '97-150+', '36+', 'Unknown1 kidnapped',\n",
       "       '33', '41', '508', '15 (+1)', '4 (+1)', '96', '50–80', '14',\n",
       "       '1(+1)', '240', '368', '123+', '2 (+1)', '23', '90', '35', '54',\n",
       "       '11 (+1)', '3–12', '85', '50+', '35+', '200', '56+', '65', '110',\n",
       "       '58', '8-14', '78', '4 (+3)', '61', '112', '11+', '180', '38',\n",
       "       '2-10', '0(+1)', '2 (+2)', '95', 'Unknown (+6)', '800+', '125',\n",
       "       '340', '300 kidnapped', '52', '2 (+6)', '347', '86', '75',\n",
       "       '45-60+', '8-9', 'Hundreds', '16+', '5+', '87', '12+', '30+',\n",
       "       'Unknown (over 29)', '194+', '2+', '10 (4 critical)',\n",
       "       '5 (disputed)', '~15', '3+', 'Around 220 kidnapped', 'Unknwon',\n",
       "       'Unlnown', '67', '37+', '90 arrested', '18 (+1)',\n",
       "       '42+ more kidnapped', '32+', '93', '~60', '6 (+7)', '53',\n",
       "       '7-\"dozens\"', '1+ (4 or \"several\" kidnapped, vigilante injured)',\n",
       "       '8+', '4+', '7+', 'Several', 'Unknown (210 kidnapped)[140]',\n",
       "       'dozens', '27+', '25+', '91', '15+', '239', '15 kidnapped',\n",
       "       '\"dozens\"', '246+', '9+', '75+', '0 (+1)', '143+', 'Unknown (+5)',\n",
       "       '6+', '434', 'Unknown (+25)', '5 kidnapped', '0 (+2)', '260+',\n",
       "       'Unknown (+9)', '171+', '24+', '19+', '1 kidnapping', '77 (+3)',\n",
       "       '20-70', '25-33', '5 (+?)', '0 (+6)', 'Unknown (+10)',\n",
       "       'Unknown injured, over 3000 kidnapped', '130+', '1 (1)', '217',\n",
       "       '4 Kidnapped', '~28', '109', '39', '39[35]', '2 Kidnapped',\n",
       "       '10-13', '5-10', '32 (+1)', '21+', '6 (+unknown)', '52+',\n",
       "       '0 (+16)', '1 Kidnaped', '57', '25-30', '1 kidnapped', '44+',\n",
       "       '3 Missing', '4 Captured', '133+', '117+', '8 (+Unknown)',\n",
       "       '0 (+32)', 'Unknown (+Unknown)', '4+ kidnapped', '119',\n",
       "       '6 kidnapped', '102+', '1+', '30 (+17)', '38+', '177', '155', '47',\n",
       "       '2 (+?)', '56', '3 (3 Captured)', '122', '43+', '6 (+1)', '14+',\n",
       "       '7 kidnapped', '63+', '120+', '0 (+Unknown)', '13+',\n",
       "       '2 Disappeared', '64', '10-12', '160+', '4 kidnapped',\n",
       "       '0 (+4 captured)', '6 (+4 kidnapped)', '?', '2 kidnapped', '76',\n",
       "       '800+\\xa0[138]', '413+', '118', '200+', '3 kidnapped', '26+',\n",
       "       '3 (+7)', '83', '152', '1 (+3)', '4 (+4)', '43', '316', '158+',\n",
       "       'At least 13', '140', '15 (+25)', 'Dozens (+21)', '128+', '+1',\n",
       "       '1 (+dozens)', '3 Kidnapped', '1 Kidnapped', '31 abducted', '105',\n",
       "       '235', '44', '143', '84', '120', '170', '+8', '+20', '5 Kidnapped',\n",
       "       '+4', '0 (+15)', '156', '5 (+3)', '186', '107', '9 (+Several)',\n",
       "       '+1 (+Unknown)', '6 Kidnapped', '7 (+1)', '13 (abducted)',\n",
       "       '7 Kidnapped', '25 (abducted)', '6 (+14)', '27 (+many)', '165',\n",
       "       '30 Kidnapped', '17(+6)', 'Several (+16)', '3 (abducted)',\n",
       "       '1 (abducted)', '157', '2 (kidnapped)', '7 (kidnapped)',\n",
       "       '14 (kidnapped)', '15 Kidnapped', '6 (kidnapped)', '62',\n",
       "       '12 (kidnapped)', '125 (kidnapped)', '18 (kidnapped)', '106',\n",
       "       '10 (kidnapped)', '2 (+5)', '15 (kidnapped)', '0 (+several)',\n",
       "       '16 (missing)', '0 (+3)', '11 (+8)', '1 Kidnapping', '+26',\n",
       "       '5 (kidnapped)', '19 (+3)', '35 (missing)', '13 Kidnapped',\n",
       "       '2 (+16)', '3 (+5)', '153', '50 (kidnapped)', '9 Kidnapped', '94',\n",
       "       '+12 Kidnapped', '10 (+8)', '8 (+12)', '+14 Kidnapped', '2 (+3)',\n",
       "       '5(+3)', '13 (+dozens)', '9 (+10)', '3 (+several)', '113',\n",
       "       '3 (+2)', '68', '4 (+unknown)', '4 (+several)', '16 (+1)', '58–70',\n",
       "       '2 (+13)', '0 (+21)', '102', '7 (+13)', '0 (+5)', '5 (+5)',\n",
       "       '9 (+7)', '12 abducted', '2 (+9)', '6 (+8)', '176', '49',\n",
       "       '14 (+1)', '7–8', '~22', '7 (+Unknown)', '2 (+Unknown)',\n",
       "       '270–400+', '3-10', '11 (+Unknown)', '6[111]', '3 (+12)',\n",
       "       'several', '+Several', '33 (+13)', '11-15', '3 (+4)', '11 (+3)',\n",
       "       '7 (+3)', '4 (+5)', '3 (+Unknown)', '7 (abducted)',\n",
       "       '10 (abducted)', '650+', '7 (+?)', '6 (+?)', '5 (abducted)',\n",
       "       '26 (+1)', '10 Kidnapped', '1 (+Unknown)', '1 (+1 Kidnapped)',\n",
       "       '16 (+?)', '8 (+?)', '10 (+Unknown)', '17 (+?)', '3–6', '140+',\n",
       "       '142', '2 (+8)', '12 kidnapped', '40 (+13)', '6 (+5)'],\n",
       "      dtype=object)"
      ]
     },
     "execution_count": 146,
     "metadata": {},
     "output_type": "execute_result"
    }
   ],
   "source": [
    "total['injured'].unique()"
   ]
  },
  {
   "cell_type": "code",
   "execution_count": 147,
   "metadata": {},
   "outputs": [],
   "source": [
    "pattern=re.compile(r'\\d{1,3}')"
   ]
  },
  {
   "cell_type": "code",
   "execution_count": 160,
   "metadata": {},
   "outputs": [],
   "source": [
    "def get_numb(x):\n",
    "    match=re.findall(pattern,x)\n",
    "    if len(match)==0:\n",
    "        return np.nan\n",
    "    elif len(match)==1:\n",
    "        return float(match[0])\n",
    "    else:\n",
    "        match=np.array(match,dtype='float')\n",
    "        return match.mean()"
   ]
  },
  {
   "cell_type": "code",
   "execution_count": 162,
   "metadata": {},
   "outputs": [],
   "source": [
    "total['inj_c']=total['injured'].map(get_numb)"
   ]
  },
  {
   "cell_type": "code",
   "execution_count": 164,
   "metadata": {},
   "outputs": [
    {
     "data": {
      "text/plain": [
       "month\n",
       "April         8.75\n",
       "August       10.45\n",
       "December      7.29\n",
       "February      8.89\n",
       "January       7.89\n",
       "July         10.37\n",
       "June         11.08\n",
       "March        10.00\n",
       "May           9.43\n",
       "November      9.04\n",
       "October       8.93\n",
       "September     8.68\n",
       "Name: inj_c, dtype: float64"
      ]
     },
     "execution_count": 164,
     "metadata": {},
     "output_type": "execute_result"
    }
   ],
   "source": [
    "total.groupby('month')['inj_c'].mean().round(2)"
   ]
  },
  {
   "cell_type": "code",
   "execution_count": 165,
   "metadata": {},
   "outputs": [],
   "source": [
    "url=\"https://www.oyorooms.com/hotels-in-coimbatore/\"\n",
    "browser.get(url)\n",
    "html=browser.page_source\n",
    "soup=BeautifulSoup(html,'html.parser')"
   ]
  },
  {
   "cell_type": "code",
   "execution_count": 167,
   "metadata": {},
   "outputs": [
    {
     "name": "stdout",
     "output_type": "stream",
     "text": [
      "OYO Flagship 30395 Tulip Towers Saravanampatti\n",
      "OYO Townhouse 124 Srm\n",
      "SilverKey Executive Stays 17281 Athithi Inn Deluxe\n",
      "OYO 30971 GM Grande\n",
      "OYO Flagship 26714 Sri Balaji Castle\n",
      "OYO 12746 Hotel Sapthagiri Nest\n",
      "OYO Flagship 20034 Mettupalayam Highway\n",
      "OYO Flagship 36422 Hotel Maruthi\n",
      "OYO 10551 Hotel RJ Grand\n",
      "OYO Townhouse 174 Near Senthil Kumaran Theater\n",
      "OYO 13858 Rithus Residency\n",
      "OYO 22536 Vishaak Inn\n",
      "OYO 46633 Hotel Sree Saravanan Bhavan\n",
      "Capital O 14406 Hotel Subashree\n",
      "OYO 11669 Abrigo City Centre Gandhipuram\n",
      "OYO 15442 Mahalakshmi Suites Deluxe\n",
      "OYO Flagship 31042 Sunil Residency\n",
      "OYO Flagship 35720 Sai Renu\n",
      "OYO 15427 Hotel Apple Grand Deluxe\n",
      "OYO 28428 Ruthira Residency\n"
     ]
    }
   ],
   "source": [
    "for i in soup.find_all(\"h3\",class_=\"listingHotelDescription__hotelName d-textEllipsis\"):\n",
    "    print(i.text)"
   ]
  },
  {
   "cell_type": "code",
   "execution_count": 169,
   "metadata": {},
   "outputs": [
    {
     "name": "stdout",
     "output_type": "stream",
     "text": [
      "Near SNS Engineering college, Coimbatore\n",
      "Near Tatabad, Coimbatore\n",
      "Near Aathi Maaruthi, Vetri Vinayagar Nagar, Coimbatore\n",
      "Near Karpagam University, Madukkarai market, Coimbatore\n",
      "Near Vconnect Media, Coimbatore\n",
      "Coimbatore, Coimbatore\n",
      "Kurudampalayam, Coimbatore\n",
      "Near Gandhi Park, Coimbatore\n",
      "TV Swamy Road, West RS Puram,Coimbatore\n",
      "Near Bus Stand, Ram Nagar, Coimbatore\n",
      "Near JP Hospital, Coimbatore\n",
      "Near Ganapathy Bus Stop, Ganapathypudur, Coimbatore\n",
      "Near Mettupalayam Bus Stand, Coimbatore\n",
      "Ram Nagar, Coimbatore\n",
      "Near Gandhipuram Bus Stand, Coimbatore\n",
      "Near Coimbatore Public School, Coimbatore\n",
      "Near Balaji Nagar, Coimbatore\n",
      "Near Arun Nagar Park, Coimbatotre\n",
      "4th Extension, 100 Feet Road, Coimbatore\n",
      "Near Tidel Park, Peelamedu, Coimbatore\n"
     ]
    }
   ],
   "source": [
    "for i in soup.find_all(\"span\",attrs={'itemprop':'streetAddress'}):\n",
    "    print(i.text)"
   ]
  },
  {
   "cell_type": "code",
   "execution_count": 171,
   "metadata": {},
   "outputs": [
    {
     "name": "stdout",
     "output_type": "stream",
     "text": [
      "4.2\n",
      "4.4\n",
      "4.4\n",
      "4.4\n",
      "4.3\n",
      "4.3\n",
      "4.2\n",
      "4.3\n",
      "4\n",
      "4.5\n",
      "3.8\n",
      "4.4\n",
      "3.7\n",
      "4.3\n",
      "3.9\n",
      "4.2\n",
      "4.2\n",
      "4.4\n",
      "4\n",
      "4.6\n"
     ]
    }
   ],
   "source": [
    "for i in soup.find_all(\"meta\",attrs={'itemprop':'ratingValue'}):\n",
    "    print(i['content'])"
   ]
  },
  {
   "cell_type": "code",
   "execution_count": 173,
   "metadata": {},
   "outputs": [
    {
     "name": "stdout",
     "output_type": "stream",
     "text": [
      "₹673\n",
      "₹1010\n",
      "₹1010\n",
      "₹918\n",
      "₹673\n",
      "₹818\n",
      "₹673\n",
      "₹706\n",
      "₹1222\n",
      "₹1010\n",
      "₹878\n",
      "₹852\n",
      "₹826\n",
      "₹1264\n",
      "₹905\n",
      "₹895\n",
      "₹673\n",
      "₹673\n",
      "₹1010\n",
      "₹852\n"
     ]
    }
   ],
   "source": [
    "for i in soup.find_all(\"span\",class_=\"listingPrice__finalPrice\"):\n",
    "    print(i.text)"
   ]
  },
  {
   "cell_type": "code",
   "execution_count": null,
   "metadata": {},
   "outputs": [],
   "source": []
  }
 ],
 "metadata": {
  "kernelspec": {
   "display_name": "Python 3",
   "language": "python",
   "name": "python3"
  },
  "language_info": {
   "codemirror_mode": {
    "name": "ipython",
    "version": 3
   },
   "file_extension": ".py",
   "mimetype": "text/x-python",
   "name": "python",
   "nbconvert_exporter": "python",
   "pygments_lexer": "ipython3",
   "version": "3.7.3"
  }
 },
 "nbformat": 4,
 "nbformat_minor": 2
}
