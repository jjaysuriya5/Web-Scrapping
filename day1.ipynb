{
 "cells": [
  {
   "cell_type": "code",
   "execution_count": 1,
   "metadata": {},
   "outputs": [],
   "source": [
    "path=\"/Users/gunnvantsaini/Documents/Work/Machine Learning Course/Python/Module 12 Scrapping/code/html.html\"\n",
    "#con=open(path,'r',encoding='utf-8')\n",
    "con=open(path,'r')\n",
    "html=con.read()\n",
    "con.close()"
   ]
  },
  {
   "cell_type": "code",
   "execution_count": 2,
   "metadata": {},
   "outputs": [
    {
     "name": "stdout",
     "output_type": "stream",
     "text": [
      "<!DOCTYPE html>\n",
      "\n",
      "<html>\n",
      "    <head>\n",
      "        <title>GETTING STARTED WITH bs4</title>\n",
      "    </head>\n",
      "    <div class=\"para 1\">\n",
      "        <p>\n",
      "            This is paragraph one\n",
      "        </p>\n",
      "        <p>\n",
      "            This is paragraph two\n",
      "        </p>\n",
      "    </div>\n",
      "    <div class='para 2'>\n",
      "        <p>\n",
      "            This is para 1 in div 2\n",
      "        </p>\n",
      "    \n",
      "    </div>\n",
      "    <div class=\"para 1\">\n",
      "        <p>\n",
      "            This is paragraph three of div with class para 1\n",
      "        </p>\n",
      "        <p>\n",
      "            This is paragraph four of div with class para 1\n",
      "        </p>\n",
      "    </div>\n",
      "\n",
      "</html>\n"
     ]
    }
   ],
   "source": [
    "print(html)"
   ]
  },
  {
   "cell_type": "code",
   "execution_count": 3,
   "metadata": {},
   "outputs": [
    {
     "data": {
      "text/plain": [
       "'<!DOC'"
      ]
     },
     "execution_count": 3,
     "metadata": {},
     "output_type": "execute_result"
    }
   ],
   "source": [
    "html[0:5]"
   ]
  },
  {
   "cell_type": "code",
   "execution_count": 4,
   "metadata": {},
   "outputs": [],
   "source": [
    "## Make html parsable\n",
    "# !pip install bs4\n",
    "from bs4 import BeautifulSoup"
   ]
  },
  {
   "cell_type": "code",
   "execution_count": 5,
   "metadata": {},
   "outputs": [],
   "source": [
    "html_parsable=BeautifulSoup(html,'html.parser')"
   ]
  },
  {
   "cell_type": "code",
   "execution_count": 6,
   "metadata": {},
   "outputs": [
    {
     "data": {
      "text/plain": [
       "<title>GETTING STARTED WITH bs4</title>"
      ]
     },
     "execution_count": 6,
     "metadata": {},
     "output_type": "execute_result"
    }
   ],
   "source": [
    "html_parsable.title"
   ]
  },
  {
   "cell_type": "code",
   "execution_count": 7,
   "metadata": {},
   "outputs": [
    {
     "data": {
      "text/plain": [
       "'GETTING STARTED WITH bs4'"
      ]
     },
     "execution_count": 7,
     "metadata": {},
     "output_type": "execute_result"
    }
   ],
   "source": [
    "html_parsable.title.text"
   ]
  },
  {
   "cell_type": "code",
   "execution_count": 8,
   "metadata": {},
   "outputs": [
    {
     "data": {
      "text/plain": [
       "<div class=\"para 1\">\n",
       "<p>\n",
       "            This is paragraph one\n",
       "        </p>\n",
       "<p>\n",
       "            This is paragraph two\n",
       "        </p>\n",
       "</div>"
      ]
     },
     "execution_count": 8,
     "metadata": {},
     "output_type": "execute_result"
    }
   ],
   "source": [
    "html_parsable.div"
   ]
  },
  {
   "cell_type": "code",
   "execution_count": 9,
   "metadata": {},
   "outputs": [
    {
     "data": {
      "text/plain": [
       "[<div class=\"para 1\">\n",
       " <p>\n",
       "             This is paragraph one\n",
       "         </p>\n",
       " <p>\n",
       "             This is paragraph two\n",
       "         </p>\n",
       " </div>, <div class=\"para 2\">\n",
       " <p>\n",
       "             This is para 1 in div 2\n",
       "         </p>\n",
       " </div>, <div class=\"para 1\">\n",
       " <p>\n",
       "             This is paragraph three of div with class para 1\n",
       "         </p>\n",
       " <p>\n",
       "             This is paragraph four of div with class para 1\n",
       "         </p>\n",
       " </div>]"
      ]
     },
     "execution_count": 9,
     "metadata": {},
     "output_type": "execute_result"
    }
   ],
   "source": [
    "html_parsable.find_all(\"div\")"
   ]
  },
  {
   "cell_type": "code",
   "execution_count": 10,
   "metadata": {},
   "outputs": [
    {
     "data": {
      "text/plain": [
       "[<div class=\"para 1\">\n",
       " <p>\n",
       "             This is paragraph one\n",
       "         </p>\n",
       " <p>\n",
       "             This is paragraph two\n",
       "         </p>\n",
       " </div>, <div class=\"para 1\">\n",
       " <p>\n",
       "             This is paragraph three of div with class para 1\n",
       "         </p>\n",
       " <p>\n",
       "             This is paragraph four of div with class para 1\n",
       "         </p>\n",
       " </div>]"
      ]
     },
     "execution_count": 10,
     "metadata": {},
     "output_type": "execute_result"
    }
   ],
   "source": [
    "html_parsable.find_all(\"div\",class_=\"para 1\")"
   ]
  },
  {
   "cell_type": "code",
   "execution_count": 11,
   "metadata": {},
   "outputs": [],
   "source": [
    "all_d=html_parsable.find_all(\"div\",class_=\"para 1\")"
   ]
  },
  {
   "cell_type": "code",
   "execution_count": 19,
   "metadata": {},
   "outputs": [
    {
     "data": {
      "text/plain": [
       "[<p>\n",
       "             This is paragraph one\n",
       "         </p>, <p>\n",
       "             This is paragraph two\n",
       "         </p>]"
      ]
     },
     "execution_count": 19,
     "metadata": {},
     "output_type": "execute_result"
    }
   ],
   "source": [
    "all_d[0].find_all(\"p\")"
   ]
  },
  {
   "cell_type": "code",
   "execution_count": 20,
   "metadata": {},
   "outputs": [
    {
     "data": {
      "text/plain": [
       "[<p>\n",
       "             This is paragraph three of div with class para 1\n",
       "         </p>, <p>\n",
       "             This is paragraph four of div with class para 1\n",
       "         </p>]"
      ]
     },
     "execution_count": 20,
     "metadata": {},
     "output_type": "execute_result"
    }
   ],
   "source": [
    "all_d[1].find_all(\"p\")"
   ]
  },
  {
   "cell_type": "code",
   "execution_count": 26,
   "metadata": {},
   "outputs": [
    {
     "name": "stdout",
     "output_type": "stream",
     "text": [
      "This is paragraph two\n",
      "This is paragraph four of div with class para 1\n"
     ]
    }
   ],
   "source": [
    "for i in all_d:\n",
    "    paras=i.find_all(\"p\")\n",
    "    print(paras[1].text.strip())"
   ]
  },
  {
   "cell_type": "code",
   "execution_count": 27,
   "metadata": {},
   "outputs": [],
   "source": [
    "### Can you store 2nd para in divs with class para1?\n",
    "para_list=[]\n",
    "for i in all_d:\n",
    "    paras=i.find_all(\"p\")\n",
    "    para_list.append(paras[1].text.strip())"
   ]
  },
  {
   "cell_type": "code",
   "execution_count": 28,
   "metadata": {},
   "outputs": [
    {
     "data": {
      "text/plain": [
       "['This is paragraph two', 'This is paragraph four of div with class para 1']"
      ]
     },
     "execution_count": 28,
     "metadata": {},
     "output_type": "execute_result"
    }
   ],
   "source": [
    "para_list"
   ]
  },
  {
   "cell_type": "markdown",
   "metadata": {},
   "source": [
    "#### How to pretend to be browser\n",
    "- Simple browser (get request)\n",
    "- Full flegged browser (headless browser)"
   ]
  },
  {
   "cell_type": "code",
   "execution_count": 29,
   "metadata": {},
   "outputs": [],
   "source": [
    "import requests ### simulate a simple browser"
   ]
  },
  {
   "cell_type": "code",
   "execution_count": 37,
   "metadata": {},
   "outputs": [],
   "source": [
    "url=\"https://www.goodreads.com/quotes\"\n",
    "headers = {'User-Agent': 'Mozilla/5.0 (Macintosh; Intel Mac OS X 10_10_1) AppleWebKit/537.36 (KHTML, like Gecko) Chrome/39.0.2171.95 Safari/537.36'}\n",
    "resp=requests.get(url,headers=headers).text"
   ]
  },
  {
   "cell_type": "code",
   "execution_count": 38,
   "metadata": {},
   "outputs": [],
   "source": [
    "soup=BeautifulSoup(resp,'html.parser')"
   ]
  },
  {
   "cell_type": "code",
   "execution_count": 58,
   "metadata": {},
   "outputs": [],
   "source": [
    "a=[]\n",
    "for i in soup.find_all(\"span\",class_=\"authorOrTitle\"):\n",
    "    a.append(i.text.strip())"
   ]
  },
  {
   "cell_type": "code",
   "execution_count": 57,
   "metadata": {},
   "outputs": [],
   "source": [
    "l=[]\n",
    "for i in soup.find_all(\"a\",class_=\"smallText\"):\n",
    "    l.append(i.text.strip().split(\" \")[0])"
   ]
  },
  {
   "cell_type": "code",
   "execution_count": 53,
   "metadata": {},
   "outputs": [],
   "source": [
    "q=[]\n",
    "for i in soup.find_all(\"div\",class_=\"quoteText\"):\n",
    "       q.append(list(i.children)[0].strip())"
   ]
  },
  {
   "cell_type": "code",
   "execution_count": 59,
   "metadata": {},
   "outputs": [],
   "source": [
    "import pandas as pd\n",
    "table=pd.DataFrame({'author':a,'quote':q,'likes':l})"
   ]
  },
  {
   "cell_type": "code",
   "execution_count": 60,
   "metadata": {},
   "outputs": [
    {
     "data": {
      "text/html": [
       "<div>\n",
       "<style scoped>\n",
       "    .dataframe tbody tr th:only-of-type {\n",
       "        vertical-align: middle;\n",
       "    }\n",
       "\n",
       "    .dataframe tbody tr th {\n",
       "        vertical-align: top;\n",
       "    }\n",
       "\n",
       "    .dataframe thead th {\n",
       "        text-align: right;\n",
       "    }\n",
       "</style>\n",
       "<table border=\"1\" class=\"dataframe\">\n",
       "  <thead>\n",
       "    <tr style=\"text-align: right;\">\n",
       "      <th></th>\n",
       "      <th>author</th>\n",
       "      <th>quote</th>\n",
       "      <th>likes</th>\n",
       "    </tr>\n",
       "  </thead>\n",
       "  <tbody>\n",
       "    <tr>\n",
       "      <th>0</th>\n",
       "      <td>Dr. Seuss</td>\n",
       "      <td>“Don't cry because it's over, smile because it...</td>\n",
       "      <td>193424</td>\n",
       "    </tr>\n",
       "    <tr>\n",
       "      <th>1</th>\n",
       "      <td>Marilyn Monroe</td>\n",
       "      <td>“I'm selfish, impatient and a little insecure....</td>\n",
       "      <td>148553</td>\n",
       "    </tr>\n",
       "    <tr>\n",
       "      <th>2</th>\n",
       "      <td>Oscar Wilde</td>\n",
       "      <td>“Be yourself; everyone else is already taken.”</td>\n",
       "      <td>146362</td>\n",
       "    </tr>\n",
       "    <tr>\n",
       "      <th>3</th>\n",
       "      <td>Albert Einstein</td>\n",
       "      <td>“Two things are infinite: the universe and hum...</td>\n",
       "      <td>129931</td>\n",
       "    </tr>\n",
       "    <tr>\n",
       "      <th>4</th>\n",
       "      <td>Frank Zappa</td>\n",
       "      <td>“So many books, so little time.”</td>\n",
       "      <td>125380</td>\n",
       "    </tr>\n",
       "  </tbody>\n",
       "</table>\n",
       "</div>"
      ],
      "text/plain": [
       "            author                                              quote   likes\n",
       "0        Dr. Seuss  “Don't cry because it's over, smile because it...  193424\n",
       "1   Marilyn Monroe  “I'm selfish, impatient and a little insecure....  148553\n",
       "2      Oscar Wilde     “Be yourself; everyone else is already taken.”  146362\n",
       "3  Albert Einstein  “Two things are infinite: the universe and hum...  129931\n",
       "4      Frank Zappa                   “So many books, so little time.”  125380"
      ]
     },
     "execution_count": 60,
     "metadata": {},
     "output_type": "execute_result"
    }
   ],
   "source": [
    "table.head()"
   ]
  },
  {
   "cell_type": "code",
   "execution_count": 75,
   "metadata": {},
   "outputs": [],
   "source": [
    "### Put all this logic in a function which accepts the url of the page and returns a df with information\n",
    "def get_data(url):\n",
    "    headers = {'User-Agent': 'Mozilla/5.0 (Macintosh; Intel Mac OS X 10_10_1) AppleWebKit/537.36 (KHTML, like Gecko) Chrome/39.0.2171.95 Safari/537.36'}\n",
    "    resp=requests.get(url,headers=headers).text\n",
    "    soup=BeautifulSoup(resp,'html.parser')\n",
    "    a=[]\n",
    "    for i in soup.find_all(\"span\",class_=\"authorOrTitle\"):\n",
    "        a.append(i.text.strip())\n",
    "    l=[]\n",
    "    for i in soup.find_all(\"a\",class_=\"smallText\"):\n",
    "        l.append(i.text.strip().split(\" \")[0])\n",
    "    q=[]\n",
    "    for i in soup.find_all(\"div\",class_=\"quoteText\"):\n",
    "        q.append(list(i.children)[0].strip())\n",
    "    table=pd.DataFrame({'author':a,'quote':q,'likes':l})\n",
    "    return table"
   ]
  },
  {
   "cell_type": "code",
   "execution_count": 62,
   "metadata": {},
   "outputs": [
    {
     "data": {
      "text/html": [
       "<div>\n",
       "<style scoped>\n",
       "    .dataframe tbody tr th:only-of-type {\n",
       "        vertical-align: middle;\n",
       "    }\n",
       "\n",
       "    .dataframe tbody tr th {\n",
       "        vertical-align: top;\n",
       "    }\n",
       "\n",
       "    .dataframe thead th {\n",
       "        text-align: right;\n",
       "    }\n",
       "</style>\n",
       "<table border=\"1\" class=\"dataframe\">\n",
       "  <thead>\n",
       "    <tr style=\"text-align: right;\">\n",
       "      <th></th>\n",
       "      <th>author</th>\n",
       "      <th>quote</th>\n",
       "      <th>likes</th>\n",
       "    </tr>\n",
       "  </thead>\n",
       "  <tbody>\n",
       "    <tr>\n",
       "      <th>0</th>\n",
       "      <td>Dr. Seuss</td>\n",
       "      <td>“Don't cry because it's over, smile because it...</td>\n",
       "      <td>193424</td>\n",
       "    </tr>\n",
       "    <tr>\n",
       "      <th>1</th>\n",
       "      <td>Marilyn Monroe</td>\n",
       "      <td>“I'm selfish, impatient and a little insecure....</td>\n",
       "      <td>148553</td>\n",
       "    </tr>\n",
       "    <tr>\n",
       "      <th>2</th>\n",
       "      <td>Oscar Wilde</td>\n",
       "      <td>“Be yourself; everyone else is already taken.”</td>\n",
       "      <td>146362</td>\n",
       "    </tr>\n",
       "    <tr>\n",
       "      <th>3</th>\n",
       "      <td>Albert Einstein</td>\n",
       "      <td>“Two things are infinite: the universe and hum...</td>\n",
       "      <td>129932</td>\n",
       "    </tr>\n",
       "    <tr>\n",
       "      <th>4</th>\n",
       "      <td>Frank Zappa</td>\n",
       "      <td>“So many books, so little time.”</td>\n",
       "      <td>125380</td>\n",
       "    </tr>\n",
       "    <tr>\n",
       "      <th>5</th>\n",
       "      <td>Bernard M. Baruch</td>\n",
       "      <td>“Be who you are and say what you feel, because...</td>\n",
       "      <td>119706</td>\n",
       "    </tr>\n",
       "    <tr>\n",
       "      <th>6</th>\n",
       "      <td>Marcus Tullius Cicero</td>\n",
       "      <td>“A room without books is like a body without a...</td>\n",
       "      <td>118664</td>\n",
       "    </tr>\n",
       "    <tr>\n",
       "      <th>7</th>\n",
       "      <td>William W. Purkey</td>\n",
       "      <td>“You've gotta dance like there's nobody watching,</td>\n",
       "      <td>117370</td>\n",
       "    </tr>\n",
       "    <tr>\n",
       "      <th>8</th>\n",
       "      <td>Dr. Seuss</td>\n",
       "      <td>“You know you're in love when you can't fall a...</td>\n",
       "      <td>114064</td>\n",
       "    </tr>\n",
       "    <tr>\n",
       "      <th>9</th>\n",
       "      <td>Mae West</td>\n",
       "      <td>“You only live once, but if you do it right, o...</td>\n",
       "      <td>106763</td>\n",
       "    </tr>\n",
       "    <tr>\n",
       "      <th>10</th>\n",
       "      <td>Mahatma Gandhi</td>\n",
       "      <td>“Be the change that you wish to see in the wor...</td>\n",
       "      <td>105219</td>\n",
       "    </tr>\n",
       "    <tr>\n",
       "      <th>11</th>\n",
       "      <td>Robert Frost</td>\n",
       "      <td>“In three words I can sum up everything I've l...</td>\n",
       "      <td>99283</td>\n",
       "    </tr>\n",
       "    <tr>\n",
       "      <th>12</th>\n",
       "      <td>J.K. Rowling,</td>\n",
       "      <td>“If you want to know what a man's like, take a...</td>\n",
       "      <td>95048</td>\n",
       "    </tr>\n",
       "    <tr>\n",
       "      <th>13</th>\n",
       "      <td>Albert Camus</td>\n",
       "      <td>“Don’t walk in front of me… I may not follow</td>\n",
       "      <td>84974</td>\n",
       "    </tr>\n",
       "    <tr>\n",
       "      <th>14</th>\n",
       "      <td>Eleanor Roosevelt,</td>\n",
       "      <td>“No one can make you feel inferior without you...</td>\n",
       "      <td>84446</td>\n",
       "    </tr>\n",
       "    <tr>\n",
       "      <th>15</th>\n",
       "      <td>C.S. Lewis,</td>\n",
       "      <td>“Friendship ... is born at the moment when one...</td>\n",
       "      <td>83585</td>\n",
       "    </tr>\n",
       "    <tr>\n",
       "      <th>16</th>\n",
       "      <td>Mark Twain</td>\n",
       "      <td>“If you tell the truth, you don't have to reme...</td>\n",
       "      <td>83079</td>\n",
       "    </tr>\n",
       "    <tr>\n",
       "      <th>17</th>\n",
       "      <td>Maya Angelou</td>\n",
       "      <td>“I've learned that people will forget what you...</td>\n",
       "      <td>78062</td>\n",
       "    </tr>\n",
       "    <tr>\n",
       "      <th>18</th>\n",
       "      <td>Elbert Hubbard</td>\n",
       "      <td>“A friend is someone who knows all about you a...</td>\n",
       "      <td>77927</td>\n",
       "    </tr>\n",
       "    <tr>\n",
       "      <th>19</th>\n",
       "      <td>Oscar Wilde</td>\n",
       "      <td>“Always forgive your enemies; nothing annoys t...</td>\n",
       "      <td>74866</td>\n",
       "    </tr>\n",
       "    <tr>\n",
       "      <th>20</th>\n",
       "      <td>Oscar Wilde</td>\n",
       "      <td>“To live is the rarest thing in the world. Mos...</td>\n",
       "      <td>72848</td>\n",
       "    </tr>\n",
       "    <tr>\n",
       "      <th>21</th>\n",
       "      <td>Mahatma Gandhi</td>\n",
       "      <td>“Live as if you were to die tomorrow. Learn as...</td>\n",
       "      <td>72101</td>\n",
       "    </tr>\n",
       "    <tr>\n",
       "      <th>22</th>\n",
       "      <td>Martin Luther King Jr.,</td>\n",
       "      <td>“Darkness cannot drive out darkness: only ligh...</td>\n",
       "      <td>71458</td>\n",
       "    </tr>\n",
       "    <tr>\n",
       "      <th>23</th>\n",
       "      <td>Oscar Wilde,</td>\n",
       "      <td>“I am so clever that sometimes I don't underst...</td>\n",
       "      <td>67114</td>\n",
       "    </tr>\n",
       "    <tr>\n",
       "      <th>24</th>\n",
       "      <td>Friedrich Nietzsche,</td>\n",
       "      <td>“Without music, life would be a mistake.”</td>\n",
       "      <td>66163</td>\n",
       "    </tr>\n",
       "    <tr>\n",
       "      <th>25</th>\n",
       "      <td>Ralph Waldo Emerson</td>\n",
       "      <td>“To be yourself in a world that is constantly ...</td>\n",
       "      <td>64610</td>\n",
       "    </tr>\n",
       "    <tr>\n",
       "      <th>26</th>\n",
       "      <td>Stephen Chbosky,</td>\n",
       "      <td>“We accept the love we think we deserve.”</td>\n",
       "      <td>64564</td>\n",
       "    </tr>\n",
       "    <tr>\n",
       "      <th>27</th>\n",
       "      <td>Rob Siltanen</td>\n",
       "      <td>“Here's to the crazy ones. The misfits. The re...</td>\n",
       "      <td>64441</td>\n",
       "    </tr>\n",
       "    <tr>\n",
       "      <th>28</th>\n",
       "      <td>Narcotics Anonymous</td>\n",
       "      <td>“Insanity is doing the same thing, over and ov...</td>\n",
       "      <td>60692</td>\n",
       "    </tr>\n",
       "    <tr>\n",
       "      <th>29</th>\n",
       "      <td>Marilyn Monroe</td>\n",
       "      <td>“I believe that everything happens for a reaso...</td>\n",
       "      <td>59382</td>\n",
       "    </tr>\n",
       "  </tbody>\n",
       "</table>\n",
       "</div>"
      ],
      "text/plain": [
       "                     author  \\\n",
       "0                 Dr. Seuss   \n",
       "1            Marilyn Monroe   \n",
       "2               Oscar Wilde   \n",
       "3           Albert Einstein   \n",
       "4               Frank Zappa   \n",
       "5         Bernard M. Baruch   \n",
       "6     Marcus Tullius Cicero   \n",
       "7         William W. Purkey   \n",
       "8                 Dr. Seuss   \n",
       "9                  Mae West   \n",
       "10           Mahatma Gandhi   \n",
       "11             Robert Frost   \n",
       "12            J.K. Rowling,   \n",
       "13             Albert Camus   \n",
       "14       Eleanor Roosevelt,   \n",
       "15              C.S. Lewis,   \n",
       "16               Mark Twain   \n",
       "17             Maya Angelou   \n",
       "18           Elbert Hubbard   \n",
       "19              Oscar Wilde   \n",
       "20              Oscar Wilde   \n",
       "21           Mahatma Gandhi   \n",
       "22  Martin Luther King Jr.,   \n",
       "23             Oscar Wilde,   \n",
       "24     Friedrich Nietzsche,   \n",
       "25      Ralph Waldo Emerson   \n",
       "26         Stephen Chbosky,   \n",
       "27             Rob Siltanen   \n",
       "28      Narcotics Anonymous   \n",
       "29           Marilyn Monroe   \n",
       "\n",
       "                                                quote   likes  \n",
       "0   “Don't cry because it's over, smile because it...  193424  \n",
       "1   “I'm selfish, impatient and a little insecure....  148553  \n",
       "2      “Be yourself; everyone else is already taken.”  146362  \n",
       "3   “Two things are infinite: the universe and hum...  129932  \n",
       "4                    “So many books, so little time.”  125380  \n",
       "5   “Be who you are and say what you feel, because...  119706  \n",
       "6   “A room without books is like a body without a...  118664  \n",
       "7   “You've gotta dance like there's nobody watching,  117370  \n",
       "8   “You know you're in love when you can't fall a...  114064  \n",
       "9   “You only live once, but if you do it right, o...  106763  \n",
       "10  “Be the change that you wish to see in the wor...  105219  \n",
       "11  “In three words I can sum up everything I've l...   99283  \n",
       "12  “If you want to know what a man's like, take a...   95048  \n",
       "13       “Don’t walk in front of me… I may not follow   84974  \n",
       "14  “No one can make you feel inferior without you...   84446  \n",
       "15  “Friendship ... is born at the moment when one...   83585  \n",
       "16  “If you tell the truth, you don't have to reme...   83079  \n",
       "17  “I've learned that people will forget what you...   78062  \n",
       "18  “A friend is someone who knows all about you a...   77927  \n",
       "19  “Always forgive your enemies; nothing annoys t...   74866  \n",
       "20  “To live is the rarest thing in the world. Mos...   72848  \n",
       "21  “Live as if you were to die tomorrow. Learn as...   72101  \n",
       "22  “Darkness cannot drive out darkness: only ligh...   71458  \n",
       "23  “I am so clever that sometimes I don't underst...   67114  \n",
       "24          “Without music, life would be a mistake.”   66163  \n",
       "25  “To be yourself in a world that is constantly ...   64610  \n",
       "26          “We accept the love we think we deserve.”   64564  \n",
       "27  “Here's to the crazy ones. The misfits. The re...   64441  \n",
       "28  “Insanity is doing the same thing, over and ov...   60692  \n",
       "29  “I believe that everything happens for a reaso...   59382  "
      ]
     },
     "execution_count": 62,
     "metadata": {},
     "output_type": "execute_result"
    }
   ],
   "source": [
    "url=\"https://www.goodreads.com/quotes\"\n",
    "get_data(url=url)"
   ]
  },
  {
   "cell_type": "code",
   "execution_count": 67,
   "metadata": {},
   "outputs": [],
   "source": [
    "base_url=\"https://www.goodreads.com/quotes?page={}\""
   ]
  },
  {
   "cell_type": "code",
   "execution_count": 68,
   "metadata": {},
   "outputs": [
    {
     "data": {
      "text/plain": [
       "'https://www.goodreads.com/quotes?page=2'"
      ]
     },
     "execution_count": 68,
     "metadata": {},
     "output_type": "execute_result"
    }
   ],
   "source": [
    "base_url.format(2)"
   ]
  },
  {
   "cell_type": "code",
   "execution_count": 76,
   "metadata": {},
   "outputs": [
    {
     "name": "stderr",
     "output_type": "stream",
     "text": [
      "100%|██████████| 100/100 [04:47<00:00,  2.88s/it]\n"
     ]
    }
   ],
   "source": [
    "master={}\n",
    "from tqdm import tqdm\n",
    "for i in tqdm(range(1,101)):\n",
    "    url=base_url.format(i)\n",
    "    master[i]=get_data(url)"
   ]
  },
  {
   "cell_type": "code",
   "execution_count": 81,
   "metadata": {},
   "outputs": [],
   "source": [
    "big_table=pd.concat([master[i] for i in master],axis=0)"
   ]
  },
  {
   "cell_type": "code",
   "execution_count": 82,
   "metadata": {},
   "outputs": [],
   "source": [
    "### Class excercise\n",
    "url=\"https://www.goodreads.com/list/show/19.Best_for_Book_Clubs\"\n",
    "resp=requests.get(url,headers=headers).text\n",
    "soup=BeautifulSoup(resp,'html.parser')"
   ]
  },
  {
   "cell_type": "code",
   "execution_count": 86,
   "metadata": {},
   "outputs": [],
   "source": [
    "title=[]\n",
    "for i in soup.find_all(\"a\",class_=\"bookTitle\"):\n",
    "    title.append(i.text.strip())"
   ]
  },
  {
   "cell_type": "code",
   "execution_count": 87,
   "metadata": {},
   "outputs": [],
   "source": [
    "title=[]\n",
    "for i in soup.find_all(\"span\",attrs={'role':'heading'}):\n",
    "    title.append(i.text.strip())"
   ]
  },
  {
   "cell_type": "code",
   "execution_count": 89,
   "metadata": {},
   "outputs": [],
   "source": [
    "author=[]\n",
    "for i in soup.find_all(\"a\",class_=\"authorName\"):\n",
    "    author.append(i.text.strip())"
   ]
  },
  {
   "cell_type": "code",
   "execution_count": 94,
   "metadata": {},
   "outputs": [],
   "source": [
    "import re\n",
    "pattern=re.compile(r'\\d\\.\\d{2}')\n",
    "rating=[]\n",
    "for i in soup.find_all(\"span\",class_=\"minirating\"):\n",
    "    rating.append(re.findall(pattern,i.text.strip())[0])"
   ]
  },
  {
   "cell_type": "code",
   "execution_count": 95,
   "metadata": {},
   "outputs": [],
   "source": [
    "def get_data(url):\n",
    "    resp=requests.get(url,headers=headers).text\n",
    "    soup=BeautifulSoup(resp,'html.parser')\n",
    "    title=[]\n",
    "    for i in soup.find_all(\"a\",class_=\"bookTitle\"):\n",
    "        title.append(i.text.strip())\n",
    "    author=[]\n",
    "    for i in soup.find_all(\"a\",class_=\"authorName\"):\n",
    "        author.append(i.text.strip())\n",
    "    rating=[]\n",
    "    for i in soup.find_all(\"span\",class_=\"minirating\"):\n",
    "        rating.append(re.findall(pattern,i.text.strip())[0])\n",
    "    table=pd.DataFrame({'title':title,'author':author,'rating':rating})\n",
    "    return table"
   ]
  },
  {
   "cell_type": "code",
   "execution_count": 98,
   "metadata": {},
   "outputs": [
    {
     "name": "stderr",
     "output_type": "stream",
     "text": [
      "100%|██████████| 10/10 [00:55<00:00,  5.50s/it]\n"
     ]
    }
   ],
   "source": [
    "base_url=\"https://www.goodreads.com/list/show/19.Best_for_Book_Clubs?page={}\"\n",
    "master={}\n",
    "for i in tqdm(range(1,11)):\n",
    "    url=base_url.format(i)\n",
    "    master[i]=get_data(url)"
   ]
  },
  {
   "cell_type": "code",
   "execution_count": 99,
   "metadata": {},
   "outputs": [],
   "source": [
    "big_table=pd.concat([master[i] for i in master],axis=0)"
   ]
  },
  {
   "cell_type": "code",
   "execution_count": 100,
   "metadata": {},
   "outputs": [
    {
     "data": {
      "text/html": [
       "<div>\n",
       "<style scoped>\n",
       "    .dataframe tbody tr th:only-of-type {\n",
       "        vertical-align: middle;\n",
       "    }\n",
       "\n",
       "    .dataframe tbody tr th {\n",
       "        vertical-align: top;\n",
       "    }\n",
       "\n",
       "    .dataframe thead th {\n",
       "        text-align: right;\n",
       "    }\n",
       "</style>\n",
       "<table border=\"1\" class=\"dataframe\">\n",
       "  <thead>\n",
       "    <tr style=\"text-align: right;\">\n",
       "      <th></th>\n",
       "      <th>title</th>\n",
       "      <th>author</th>\n",
       "      <th>rating</th>\n",
       "    </tr>\n",
       "  </thead>\n",
       "  <tbody>\n",
       "    <tr>\n",
       "      <th>0</th>\n",
       "      <td>The Help</td>\n",
       "      <td>Kathryn Stockett</td>\n",
       "      <td>4.46</td>\n",
       "    </tr>\n",
       "    <tr>\n",
       "      <th>1</th>\n",
       "      <td>The Kite Runner</td>\n",
       "      <td>Khaled Hosseini</td>\n",
       "      <td>4.29</td>\n",
       "    </tr>\n",
       "    <tr>\n",
       "      <th>2</th>\n",
       "      <td>Water for Elephants</td>\n",
       "      <td>Sara Gruen</td>\n",
       "      <td>4.08</td>\n",
       "    </tr>\n",
       "    <tr>\n",
       "      <th>3</th>\n",
       "      <td>The Book Thief</td>\n",
       "      <td>Markus Zusak</td>\n",
       "      <td>4.37</td>\n",
       "    </tr>\n",
       "    <tr>\n",
       "      <th>4</th>\n",
       "      <td>To Kill a Mockingbird (To Kill a Mockingbird, #1)</td>\n",
       "      <td>Harper Lee</td>\n",
       "      <td>4.27</td>\n",
       "    </tr>\n",
       "  </tbody>\n",
       "</table>\n",
       "</div>"
      ],
      "text/plain": [
       "                                               title            author rating\n",
       "0                                           The Help  Kathryn Stockett   4.46\n",
       "1                                    The Kite Runner   Khaled Hosseini   4.29\n",
       "2                                Water for Elephants        Sara Gruen   4.08\n",
       "3                                     The Book Thief      Markus Zusak   4.37\n",
       "4  To Kill a Mockingbird (To Kill a Mockingbird, #1)        Harper Lee   4.27"
      ]
     },
     "execution_count": 100,
     "metadata": {},
     "output_type": "execute_result"
    }
   ],
   "source": [
    "big_table.head()"
   ]
  },
  {
   "cell_type": "code",
   "execution_count": 101,
   "metadata": {},
   "outputs": [
    {
     "name": "stdout",
     "output_type": "stream",
     "text": [
      "<!DOCTYPE html>\n",
      "\n",
      "<html>\n",
      "  <head>\n",
      "    <title>Naukri reCAPTCHA</title>\n",
      "    <meta name=\"robots\" content=\"noindex, nofollow\">\n",
      "        <link rel=\"stylesheet\" href=\"https://static.naukimg.com/s/4/101/c/common_v62.min.css\" />      \n",
      "        <script src=\"https://www.google.com/recaptcha/api.js\" async defer></script>   \n",
      "    </head>\n",
      "    <body>\n",
      "        <div class=\"headGNBWrap\">\n",
      "            <div itemscope=\"\" itemtype=\"https://schema.org/Organization\" class=\"headGNB cloneCont wrap\"><a itemprop=\"url\" class=\"nLogo fl\" href=\"#\" data-ga-track=\"Company Logo|Company Logo\"><img itemprop=\"logo\" src=\"https://static.naukimg.com/s/4/100/i/naukri_Logo.png\" alt=\"Naukri.com, Indiaâs No.1 Job Site\"></a>\n",
      "            </div>\n",
      "        </div>\n",
      "        <div class=\"wrap\">\n",
      "            <div class=\"mainSec\">\n",
      "                <form action=\"\" method=\"POST\">\n",
      "                    <div class=\"g-recaptcha\" data-sitekey=\"6Lfr8SEUAAAAACgWL1C--Pup9o8uBElCNXYZ4vfL\"></div>\n",
      "                    <br/>\n",
      "                    <input type=\"submit\" value=\"Submit\" class=\"blueBtn\">\n",
      "                </form>\n",
      "            </div>\n",
      "        </div>\n",
      "    </body>\n",
      "</html>\n",
      "\n",
      "\n"
     ]
    }
   ],
   "source": [
    "### Naukari scrapper\n",
    "url=\"https://www.naukri.com/data-science-jobs\"\n",
    "resp=requests.get(url,headers=headers).text\n",
    "print(resp)"
   ]
  },
  {
   "cell_type": "code",
   "execution_count": null,
   "metadata": {},
   "outputs": [],
   "source": [
    "# !pip install selenium, for ppl on windows\n",
    "from selenium import webdriver\n",
    "import os\n",
    "path_tounzipfile=\"\"\n",
    "os.chdir(path_tounzipfile)\n",
    "browser=webdriver.Firefox(path_tounzipfile)"
   ]
  },
  {
   "cell_type": "code",
   "execution_count": 102,
   "metadata": {},
   "outputs": [],
   "source": [
    "from selenium import webdriver\n",
    "browser=webdriver.Firefox()"
   ]
  },
  {
   "cell_type": "code",
   "execution_count": 103,
   "metadata": {},
   "outputs": [],
   "source": [
    "url=\"https://www.naukri.com/data-science-jobs\"\n",
    "browser.get(url)"
   ]
  },
  {
   "cell_type": "code",
   "execution_count": 105,
   "metadata": {},
   "outputs": [],
   "source": [
    "html=browser.page_source"
   ]
  },
  {
   "cell_type": "code",
   "execution_count": 106,
   "metadata": {},
   "outputs": [],
   "source": [
    "soup=BeautifulSoup(html,'html.parser')"
   ]
  },
  {
   "cell_type": "code",
   "execution_count": 107,
   "metadata": {},
   "outputs": [],
   "source": [
    "## Title\n",
    "## Compname\n",
    "## Exp\n",
    "## Location\n",
    "## Salary"
   ]
  },
  {
   "cell_type": "code",
   "execution_count": 110,
   "metadata": {},
   "outputs": [],
   "source": [
    "title=[]\n",
    "for i in soup.find_all(\"li\",class_=\"desig\"):\n",
    "    title.append(i.text)"
   ]
  },
  {
   "cell_type": "code",
   "execution_count": 112,
   "metadata": {},
   "outputs": [],
   "source": [
    "company=[]\n",
    "for i in soup.find_all(\"span\",class_=\"org\"):\n",
    "    company.append(i.text)"
   ]
  },
  {
   "cell_type": "code",
   "execution_count": 114,
   "metadata": {},
   "outputs": [],
   "source": [
    "exp=[]\n",
    "for i in soup.find_all(\"span\",class_=\"exp\"):\n",
    "    exp.append(i.text)"
   ]
  },
  {
   "cell_type": "code",
   "execution_count": 116,
   "metadata": {},
   "outputs": [],
   "source": [
    "loc=[]\n",
    "for i in soup.find_all(\"span\",class_=\"loc\"):\n",
    "    loc.append(i.text)"
   ]
  },
  {
   "cell_type": "code",
   "execution_count": 118,
   "metadata": {},
   "outputs": [],
   "source": [
    "salary=[]\n",
    "for i in soup.find_all(\"span\",class_=\"salary\"):\n",
    "    salary.append(i.text)"
   ]
  },
  {
   "cell_type": "code",
   "execution_count": 119,
   "metadata": {},
   "outputs": [],
   "source": [
    "table=pd.DataFrame({'title':title,'org':company,'exp':exp,'loc':loc,'salary':salary})"
   ]
  },
  {
   "cell_type": "code",
   "execution_count": 121,
   "metadata": {},
   "outputs": [
    {
     "data": {
      "text/html": [
       "<div>\n",
       "<style scoped>\n",
       "    .dataframe tbody tr th:only-of-type {\n",
       "        vertical-align: middle;\n",
       "    }\n",
       "\n",
       "    .dataframe tbody tr th {\n",
       "        vertical-align: top;\n",
       "    }\n",
       "\n",
       "    .dataframe thead th {\n",
       "        text-align: right;\n",
       "    }\n",
       "</style>\n",
       "<table border=\"1\" class=\"dataframe\">\n",
       "  <thead>\n",
       "    <tr style=\"text-align: right;\">\n",
       "      <th></th>\n",
       "      <th>title</th>\n",
       "      <th>org</th>\n",
       "      <th>exp</th>\n",
       "      <th>loc</th>\n",
       "      <th>salary</th>\n",
       "    </tr>\n",
       "  </thead>\n",
       "  <tbody>\n",
       "    <tr>\n",
       "      <th>0</th>\n",
       "      <td>Data Scientist</td>\n",
       "      <td>GREAT LAKES E-LEARNING SERVICES PRIVATE LIMITED</td>\n",
       "      <td>1-6 yrs</td>\n",
       "      <td>Gurgaon</td>\n",
       "      <td>INR 12,00,000 - 19,00,000 PA.</td>\n",
       "    </tr>\n",
       "    <tr>\n",
       "      <th>1</th>\n",
       "      <td>Big Data Engineer - Python_aws_ Pyspark - Imme...</td>\n",
       "      <td>TEKsystems Global Services Private Limited</td>\n",
       "      <td>4-8 yrs</td>\n",
       "      <td>Bengaluru</td>\n",
       "      <td>Not disclosed</td>\n",
       "    </tr>\n",
       "    <tr>\n",
       "      <th>2</th>\n",
       "      <td>Feshers- Be - MNC VP</td>\n",
       "      <td>Value C Consulting Services Private Limited</td>\n",
       "      <td>0-5 yrs</td>\n",
       "      <td>Bengaluru</td>\n",
       "      <td>INR 4,00,000 - 6,50,000 PA.</td>\n",
       "    </tr>\n",
       "    <tr>\n",
       "      <th>3</th>\n",
       "      <td>Data Scientist</td>\n",
       "      <td>Nihilent Limited</td>\n",
       "      <td>12-15 yrs</td>\n",
       "      <td>Pune</td>\n",
       "      <td>Not disclosed</td>\n",
       "    </tr>\n",
       "    <tr>\n",
       "      <th>4</th>\n",
       "      <td>Manager - Analytics - Deep Machine Learning - ...</td>\n",
       "      <td>Huquo Consulting Pvt. Ltd</td>\n",
       "      <td>5-10 yrs</td>\n",
       "      <td>Gurgaon</td>\n",
       "      <td>Not disclosed</td>\n",
       "    </tr>\n",
       "  </tbody>\n",
       "</table>\n",
       "</div>"
      ],
      "text/plain": [
       "                                               title  \\\n",
       "0                                     Data Scientist   \n",
       "1  Big Data Engineer - Python_aws_ Pyspark - Imme...   \n",
       "2                               Feshers- Be - MNC VP   \n",
       "3                                     Data Scientist   \n",
       "4  Manager - Analytics - Deep Machine Learning - ...   \n",
       "\n",
       "                                               org        exp        loc  \\\n",
       "0  GREAT LAKES E-LEARNING SERVICES PRIVATE LIMITED    1-6 yrs    Gurgaon   \n",
       "1       TEKsystems Global Services Private Limited    4-8 yrs  Bengaluru   \n",
       "2      Value C Consulting Services Private Limited    0-5 yrs  Bengaluru   \n",
       "3                                 Nihilent Limited  12-15 yrs       Pune   \n",
       "4                        Huquo Consulting Pvt. Ltd   5-10 yrs    Gurgaon   \n",
       "\n",
       "                              salary  \n",
       "0   INR 12,00,000 - 19,00,000 PA.     \n",
       "1                    Not disclosed    \n",
       "2     INR 4,00,000 - 6,50,000 PA.     \n",
       "3                    Not disclosed    \n",
       "4                    Not disclosed    "
      ]
     },
     "execution_count": 121,
     "metadata": {},
     "output_type": "execute_result"
    }
   ],
   "source": [
    "table.head()"
   ]
  },
  {
   "cell_type": "code",
   "execution_count": 122,
   "metadata": {},
   "outputs": [],
   "source": [
    "url=\"https://www.naukri.com/data-science-jobs\"\n",
    "browser.get(url)"
   ]
  },
  {
   "cell_type": "code",
   "execution_count": 123,
   "metadata": {},
   "outputs": [],
   "source": [
    "btns=browser.find_elements_by_class_name(\"grayBtn\")"
   ]
  },
  {
   "cell_type": "code",
   "execution_count": 124,
   "metadata": {},
   "outputs": [
    {
     "data": {
      "text/plain": [
       "1"
      ]
     },
     "execution_count": 124,
     "metadata": {},
     "output_type": "execute_result"
    }
   ],
   "source": [
    "len(btns)"
   ]
  },
  {
   "cell_type": "code",
   "execution_count": 126,
   "metadata": {},
   "outputs": [],
   "source": [
    "btns[0].click()"
   ]
  },
  {
   "cell_type": "code",
   "execution_count": 127,
   "metadata": {},
   "outputs": [],
   "source": [
    "btns=browser.find_elements_by_class_name(\"grayBtn\")"
   ]
  },
  {
   "cell_type": "code",
   "execution_count": 128,
   "metadata": {},
   "outputs": [
    {
     "data": {
      "text/plain": [
       "2"
      ]
     },
     "execution_count": 128,
     "metadata": {},
     "output_type": "execute_result"
    }
   ],
   "source": [
    "len(btns)"
   ]
  },
  {
   "cell_type": "code",
   "execution_count": 129,
   "metadata": {},
   "outputs": [
    {
     "name": "stdout",
     "output_type": "stream",
     "text": [
      "Previous\n",
      "Next\n"
     ]
    }
   ],
   "source": [
    "for i in btns:\n",
    "    print(i.text)"
   ]
  },
  {
   "cell_type": "code",
   "execution_count": 130,
   "metadata": {},
   "outputs": [],
   "source": [
    "for i in btns:\n",
    "    if i.text==\"Next\":\n",
    "        i.click()"
   ]
  },
  {
   "cell_type": "code",
   "execution_count": 133,
   "metadata": {},
   "outputs": [],
   "source": [
    "def get_data(html):\n",
    "    soup=BeautifulSoup(html,'html.parser')\n",
    "    title=[]\n",
    "    for i in soup.find_all(\"li\",class_=\"desig\"):\n",
    "        title.append(i.text)\n",
    "    company=[]\n",
    "    for i in soup.find_all(\"span\",class_=\"org\"):\n",
    "        company.append(i.text)\n",
    "    exp=[]\n",
    "    for i in soup.find_all(\"span\",class_=\"exp\"):\n",
    "        exp.append(i.text)\n",
    "    loc=[]\n",
    "    for i in soup.find_all(\"span\",class_=\"loc\"):\n",
    "        loc.append(i.text)\n",
    "    salary=[]\n",
    "    for i in soup.find_all(\"span\",class_=\"salary\"):\n",
    "        salary.append(i.text)\n",
    "    table=pd.DataFrame({'title':title,'org':company,'exp':exp,'loc':loc,'salary':salary})\n",
    "    return table"
   ]
  },
  {
   "cell_type": "code",
   "execution_count": 134,
   "metadata": {},
   "outputs": [],
   "source": [
    "url=\"https://www.naukri.com/data-science-jobs\"\n",
    "browser.get(url)\n",
    "html=browser.page_source\n",
    "master={}\n",
    "master[0]=get_data(html)\n",
    "btns=browser.find_elements_by_class_name(\"grayBtn\")\n",
    "btns[0].click()\n",
    "for i in range(1,3):\n",
    "    btns=browser.find_elements_by_class_name(\"grayBtn\")\n",
    "    html=browser.page_source\n",
    "    master[i]=get_data(html)\n",
    "    for btn in btns:\n",
    "        if btn.text==\"Next\":\n",
    "            btn.click()    "
   ]
  },
  {
   "cell_type": "code",
   "execution_count": 136,
   "metadata": {},
   "outputs": [],
   "source": [
    "big_table=pd.concat([master[i] for i in master],axis=0)"
   ]
  },
  {
   "cell_type": "code",
   "execution_count": null,
   "metadata": {},
   "outputs": [],
   "source": []
  }
 ],
 "metadata": {
  "kernelspec": {
   "display_name": "Python 3",
   "language": "python",
   "name": "python3"
  },
  "language_info": {
   "codemirror_mode": {
    "name": "ipython",
    "version": 3
   },
   "file_extension": ".py",
   "mimetype": "text/x-python",
   "name": "python",
   "nbconvert_exporter": "python",
   "pygments_lexer": "ipython3",
   "version": "3.7.3"
  }
 },
 "nbformat": 4,
 "nbformat_minor": 2
}
