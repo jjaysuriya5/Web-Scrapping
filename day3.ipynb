{
 "cells": [
  {
   "cell_type": "code",
   "execution_count": 1,
   "metadata": {},
   "outputs": [],
   "source": [
    "import numpy as np\n",
    "from selenium import webdriver\n",
    "from bs4 import BeautifulSoup\n",
    "url=\"https://www.oyorooms.com/hotels-in-coimbatore/?page=4\"\n",
    "browser=webdriver.Firefox()\n",
    "browser.get(url)\n",
    "html=browser.page_source\n",
    "soup=BeautifulSoup(html,'html.parser')"
   ]
  },
  {
   "cell_type": "code",
   "execution_count": 2,
   "metadata": {},
   "outputs": [],
   "source": [
    "listings=soup.find_all(\"div\",class_=\"hotelCardListing__descriptionWrapper\")"
   ]
  },
  {
   "cell_type": "code",
   "execution_count": 3,
   "metadata": {},
   "outputs": [
    {
     "data": {
      "text/plain": [
       "20"
      ]
     },
     "execution_count": 3,
     "metadata": {},
     "output_type": "execute_result"
    }
   ],
   "source": [
    "len(listings)"
   ]
  },
  {
   "cell_type": "code",
   "execution_count": 4,
   "metadata": {},
   "outputs": [
    {
     "data": {
      "text/plain": [
       "[<h3 class=\"listingHotelDescription__hotelName d-textEllipsis\" itemprop=\"name\" title=\"OYO 44203 Sri Manis Residency\">OYO 44203 Sri Manis Residency</h3>]"
      ]
     },
     "execution_count": 4,
     "metadata": {},
     "output_type": "execute_result"
    }
   ],
   "source": [
    "listings[0].find_all(\"h3\",class_=\"listingHotelDescription__hotelName d-textEllipsis\")"
   ]
  },
  {
   "cell_type": "code",
   "execution_count": 5,
   "metadata": {},
   "outputs": [
    {
     "data": {
      "text/plain": [
       "[<span class=\"listingPrice__finalPrice\">₹1010</span>]"
      ]
     },
     "execution_count": 5,
     "metadata": {},
     "output_type": "execute_result"
    }
   ],
   "source": [
    "listings[0].find_all(\"span\",class_=\"listingPrice__finalPrice\")"
   ]
  },
  {
   "cell_type": "code",
   "execution_count": 6,
   "metadata": {},
   "outputs": [],
   "source": [
    "## Experiment with page 5\n",
    "url=\"https://www.oyorooms.com/hotels-in-coimbatore/?page=5\"\n",
    "browser.get(url)\n",
    "html=browser.page_source\n",
    "soup=BeautifulSoup(html,'html.parser')"
   ]
  },
  {
   "cell_type": "code",
   "execution_count": 7,
   "metadata": {},
   "outputs": [],
   "source": [
    "listings=soup.find_all(\"div\",class_=\"hotelCardListing__descriptionWrapper\")"
   ]
  },
  {
   "cell_type": "code",
   "execution_count": 8,
   "metadata": {},
   "outputs": [
    {
     "data": {
      "text/plain": [
       "7"
      ]
     },
     "execution_count": 8,
     "metadata": {},
     "output_type": "execute_result"
    }
   ],
   "source": [
    "len(listings)"
   ]
  },
  {
   "cell_type": "code",
   "execution_count": 9,
   "metadata": {},
   "outputs": [
    {
     "data": {
      "text/plain": [
       "[]"
      ]
     },
     "execution_count": 9,
     "metadata": {},
     "output_type": "execute_result"
    }
   ],
   "source": [
    "listings[0].find_all(\"span\",class_=\"listingPrice__finalPrice\")"
   ]
  },
  {
   "cell_type": "code",
   "execution_count": 10,
   "metadata": {},
   "outputs": [],
   "source": [
    "## develop the full logic \n",
    "url=\"https://www.oyorooms.com/hotels-in-coimbatore/?page=4\"\n",
    "browser=webdriver.Firefox()\n",
    "browser.get(url)\n",
    "html=browser.page_source\n",
    "soup=BeautifulSoup(html,'html.parser')"
   ]
  },
  {
   "cell_type": "code",
   "execution_count": 11,
   "metadata": {},
   "outputs": [],
   "source": [
    "listings=soup.find_all(\"div\",class_=\"hotelCardListing__descriptionWrapper\")"
   ]
  },
  {
   "cell_type": "code",
   "execution_count": 12,
   "metadata": {},
   "outputs": [
    {
     "data": {
      "text/plain": [
       "20"
      ]
     },
     "execution_count": 12,
     "metadata": {},
     "output_type": "execute_result"
    }
   ],
   "source": [
    "len(listings)"
   ]
  },
  {
   "cell_type": "code",
   "execution_count": 18,
   "metadata": {},
   "outputs": [],
   "source": [
    "import pandas as pd\n",
    "def get_data(url):\n",
    "    browser.get(url)\n",
    "    html=browser.page_source\n",
    "    soup=BeautifulSoup(html,'html.parser')\n",
    "    listings=soup.find_all(\"div\",class_=\"hotelCardListing__descriptionWrapper\")\n",
    "    n=[]\n",
    "    a=[]\n",
    "    r=[]\n",
    "    p=[]\n",
    "    for i in listings:\n",
    "        name=i.find_all(\"h3\",class_=\"listingHotelDescription__hotelName d-textEllipsis\")\n",
    "        if len(name)!=0:\n",
    "            n.append(name[0].text)\n",
    "        else:\n",
    "            n.append(np.nan)\n",
    "        addr=i.find_all(\"span\",attrs={'itemprop':'streetAddress'})\n",
    "        if len(addr)!=0:\n",
    "            a.append(addr[0].text)\n",
    "        else:\n",
    "            a.append(np.nan)\n",
    "        rating=i.find_all(\"meta\",attrs={'itemprop':'ratingValue'})\n",
    "        if len(rating)!=0:\n",
    "            r.append(rating[0]['content'])\n",
    "        else:\n",
    "            r.append(np.nan)\n",
    "        price=i.find_all(\"span\",class_=\"listingPrice__finalPrice\")\n",
    "        if len(price)!=0:\n",
    "            p.append(price[0].text)\n",
    "        else:\n",
    "            p.append(np.nan)\n",
    "    table=pd.DataFrame({'name':n,'addrs':a,'rating':r,'price':p})\n",
    "    return table"
   ]
  },
  {
   "cell_type": "code",
   "execution_count": 20,
   "metadata": {},
   "outputs": [
    {
     "data": {
      "text/html": [
       "<div>\n",
       "<style scoped>\n",
       "    .dataframe tbody tr th:only-of-type {\n",
       "        vertical-align: middle;\n",
       "    }\n",
       "\n",
       "    .dataframe tbody tr th {\n",
       "        vertical-align: top;\n",
       "    }\n",
       "\n",
       "    .dataframe thead th {\n",
       "        text-align: right;\n",
       "    }\n",
       "</style>\n",
       "<table border=\"1\" class=\"dataframe\">\n",
       "  <thead>\n",
       "    <tr style=\"text-align: right;\">\n",
       "      <th></th>\n",
       "      <th>name</th>\n",
       "      <th>addrs</th>\n",
       "      <th>rating</th>\n",
       "      <th>price</th>\n",
       "    </tr>\n",
       "  </thead>\n",
       "  <tbody>\n",
       "    <tr>\n",
       "      <th>0</th>\n",
       "      <td>OYO 28428 Ruthira Residency</td>\n",
       "      <td>Near Tidel Park, Peelamedu, Coimbatore</td>\n",
       "      <td>4.6</td>\n",
       "      <td>₹852</td>\n",
       "    </tr>\n",
       "    <tr>\n",
       "      <th>1</th>\n",
       "      <td>OYO 18451 Redwood</td>\n",
       "      <td>Peelamedu, Coimbatore</td>\n",
       "      <td>4.3</td>\n",
       "      <td>₹864</td>\n",
       "    </tr>\n",
       "    <tr>\n",
       "      <th>2</th>\n",
       "      <td>OYO 19487 Hr Residency Deluxe</td>\n",
       "      <td>Diwan Bahadur Rd, RS Puram, Coimbatore</td>\n",
       "      <td>3.9</td>\n",
       "      <td>₹976</td>\n",
       "    </tr>\n",
       "    <tr>\n",
       "      <th>3</th>\n",
       "      <td>SilverKey Executive Stays 30761 2D Residency</td>\n",
       "      <td>Near Shanthi Gears Company, Coimbatore</td>\n",
       "      <td>4.2</td>\n",
       "      <td>₹673</td>\n",
       "    </tr>\n",
       "    <tr>\n",
       "      <th>4</th>\n",
       "      <td>Capital O 46064 Midland Residency Deluxe</td>\n",
       "      <td>Perur Main Rd, Telungupalayam Privu, Coimbatore</td>\n",
       "      <td>4.9</td>\n",
       "      <td>₹1242</td>\n",
       "    </tr>\n",
       "    <tr>\n",
       "      <th>5</th>\n",
       "      <td>OYO 15427 Hotel Apple Grand Deluxe</td>\n",
       "      <td>4th Extension, 100 Feet Road, Coimbatore</td>\n",
       "      <td>4</td>\n",
       "      <td>₹1010</td>\n",
       "    </tr>\n",
       "    <tr>\n",
       "      <th>6</th>\n",
       "      <td>Capital O 37664 Hotel Grand Plaza Deluxe</td>\n",
       "      <td>Opposite Railway Station, Coimbatore</td>\n",
       "      <td>4.3</td>\n",
       "      <td>₹1726</td>\n",
       "    </tr>\n",
       "    <tr>\n",
       "      <th>7</th>\n",
       "      <td>OYO 1531 Vels Grand Inn Hotel</td>\n",
       "      <td>Gandhipuram, Coimbatore</td>\n",
       "      <td>4.2</td>\n",
       "      <td>₹1500</td>\n",
       "    </tr>\n",
       "    <tr>\n",
       "      <th>8</th>\n",
       "      <td>OYO Flagship 27691 SNV Garden Main Road</td>\n",
       "      <td>Near Trinity School, Coimbatore</td>\n",
       "      <td>4.5</td>\n",
       "      <td>₹673</td>\n",
       "    </tr>\n",
       "    <tr>\n",
       "      <th>9</th>\n",
       "      <td>Capital O 4603 Hotel The Fortune</td>\n",
       "      <td>Ram Nagar, Coimbatore</td>\n",
       "      <td>4.4</td>\n",
       "      <td>₹1618</td>\n",
       "    </tr>\n",
       "    <tr>\n",
       "      <th>10</th>\n",
       "      <td>OYO 45806 Sri Sakthi Vinayagar Residency  Deluxe</td>\n",
       "      <td>Near  SLV Nagar, Sulur, Tamil Nadu</td>\n",
       "      <td>4.1</td>\n",
       "      <td>₹895</td>\n",
       "    </tr>\n",
       "    <tr>\n",
       "      <th>11</th>\n",
       "      <td>OYO 12811 Hotel Sree Murugan Suite</td>\n",
       "      <td>Railway Station, Coimbatore</td>\n",
       "      <td>4</td>\n",
       "      <td>₹1219</td>\n",
       "    </tr>\n",
       "    <tr>\n",
       "      <th>12</th>\n",
       "      <td>OYO Flagship 24214 Annai Velankanni nagar Saver</td>\n",
       "      <td>Annai Velankanni Nagar, Coimbatore</td>\n",
       "      <td>4.2</td>\n",
       "      <td>₹604</td>\n",
       "    </tr>\n",
       "    <tr>\n",
       "      <th>13</th>\n",
       "      <td>OYO 46276 Apple Inn</td>\n",
       "      <td>Lajapathrai Street, Ram Nagar, Coimbatore</td>\n",
       "      <td>4.3</td>\n",
       "      <td>₹959</td>\n",
       "    </tr>\n",
       "    <tr>\n",
       "      <th>14</th>\n",
       "      <td>Capital O 11563 Hotel Shiva Grand Inn Deluxe</td>\n",
       "      <td>Near District Collectorate, Coimbatore</td>\n",
       "      <td>4.4</td>\n",
       "      <td>₹2040</td>\n",
       "    </tr>\n",
       "    <tr>\n",
       "      <th>15</th>\n",
       "      <td>OYO 4658 Akil Residency</td>\n",
       "      <td>100 Feet Road, Coimbatore</td>\n",
       "      <td>4.2</td>\n",
       "      <td>₹1769</td>\n",
       "    </tr>\n",
       "    <tr>\n",
       "      <th>16</th>\n",
       "      <td>OYO 39548 The Country Club Deluxe</td>\n",
       "      <td>Near Walaiyar, Coimbatore</td>\n",
       "      <td>4</td>\n",
       "      <td>₹1780</td>\n",
       "    </tr>\n",
       "    <tr>\n",
       "      <th>17</th>\n",
       "      <td>SilverKey Executive Stays 20012 Saravanampatti</td>\n",
       "      <td>Near keeranatham, Saravanamapatti, Coimbatore</td>\n",
       "      <td>4.3</td>\n",
       "      <td>₹793</td>\n",
       "    </tr>\n",
       "    <tr>\n",
       "      <th>18</th>\n",
       "      <td>SPOT ON 60164 Ganapathy Lodge SPOT</td>\n",
       "      <td>Near Annapurna Hotel, Ram Nagar, Coimbatore</td>\n",
       "      <td>3.9</td>\n",
       "      <td>₹547</td>\n",
       "    </tr>\n",
       "    <tr>\n",
       "      <th>19</th>\n",
       "      <td>OYO Flagship 26643 Chil IT Park</td>\n",
       "      <td>Near Kumaraguru College, Coimbatore</td>\n",
       "      <td>4.2</td>\n",
       "      <td>₹673</td>\n",
       "    </tr>\n",
       "  </tbody>\n",
       "</table>\n",
       "</div>"
      ],
      "text/plain": [
       "                                                name  \\\n",
       "0                        OYO 28428 Ruthira Residency   \n",
       "1                                  OYO 18451 Redwood   \n",
       "2                      OYO 19487 Hr Residency Deluxe   \n",
       "3       SilverKey Executive Stays 30761 2D Residency   \n",
       "4           Capital O 46064 Midland Residency Deluxe   \n",
       "5                 OYO 15427 Hotel Apple Grand Deluxe   \n",
       "6           Capital O 37664 Hotel Grand Plaza Deluxe   \n",
       "7                      OYO 1531 Vels Grand Inn Hotel   \n",
       "8            OYO Flagship 27691 SNV Garden Main Road   \n",
       "9                   Capital O 4603 Hotel The Fortune   \n",
       "10  OYO 45806 Sri Sakthi Vinayagar Residency  Deluxe   \n",
       "11                OYO 12811 Hotel Sree Murugan Suite   \n",
       "12   OYO Flagship 24214 Annai Velankanni nagar Saver   \n",
       "13                               OYO 46276 Apple Inn   \n",
       "14      Capital O 11563 Hotel Shiva Grand Inn Deluxe   \n",
       "15                           OYO 4658 Akil Residency   \n",
       "16                 OYO 39548 The Country Club Deluxe   \n",
       "17    SilverKey Executive Stays 20012 Saravanampatti   \n",
       "18                SPOT ON 60164 Ganapathy Lodge SPOT   \n",
       "19                   OYO Flagship 26643 Chil IT Park   \n",
       "\n",
       "                                              addrs rating  price  \n",
       "0            Near Tidel Park, Peelamedu, Coimbatore    4.6   ₹852  \n",
       "1                             Peelamedu, Coimbatore    4.3   ₹864  \n",
       "2            Diwan Bahadur Rd, RS Puram, Coimbatore    3.9   ₹976  \n",
       "3            Near Shanthi Gears Company, Coimbatore    4.2   ₹673  \n",
       "4   Perur Main Rd, Telungupalayam Privu, Coimbatore    4.9  ₹1242  \n",
       "5          4th Extension, 100 Feet Road, Coimbatore      4  ₹1010  \n",
       "6              Opposite Railway Station, Coimbatore    4.3  ₹1726  \n",
       "7                           Gandhipuram, Coimbatore    4.2  ₹1500  \n",
       "8                   Near Trinity School, Coimbatore    4.5   ₹673  \n",
       "9                             Ram Nagar, Coimbatore    4.4  ₹1618  \n",
       "10               Near  SLV Nagar, Sulur, Tamil Nadu    4.1   ₹895  \n",
       "11                      Railway Station, Coimbatore      4  ₹1219  \n",
       "12               Annai Velankanni Nagar, Coimbatore    4.2   ₹604  \n",
       "13        Lajapathrai Street, Ram Nagar, Coimbatore    4.3   ₹959  \n",
       "14           Near District Collectorate, Coimbatore    4.4  ₹2040  \n",
       "15                        100 Feet Road, Coimbatore    4.2  ₹1769  \n",
       "16                        Near Walaiyar, Coimbatore      4  ₹1780  \n",
       "17    Near keeranatham, Saravanamapatti, Coimbatore    4.3   ₹793  \n",
       "18      Near Annapurna Hotel, Ram Nagar, Coimbatore    3.9   ₹547  \n",
       "19              Near Kumaraguru College, Coimbatore    4.2   ₹673  "
      ]
     },
     "execution_count": 20,
     "metadata": {},
     "output_type": "execute_result"
    }
   ],
   "source": [
    "url=\"https://www.oyorooms.com/hotels-in-coimbatore/?page=2\"\n",
    "get_data(url)"
   ]
  },
  {
   "cell_type": "code",
   "execution_count": 21,
   "metadata": {},
   "outputs": [
    {
     "name": "stderr",
     "output_type": "stream",
     "text": [
      "100%|██████████| 5/5 [00:23<00:00,  4.73s/it]\n"
     ]
    }
   ],
   "source": [
    "base_url='https://www.oyorooms.com/hotels-in-coimbatore/?page={}'\n",
    "master={}\n",
    "from tqdm import tqdm\n",
    "for i in tqdm(range(1,6)):\n",
    "    url=base_url.format(i)\n",
    "    master[i]=get_data(url)"
   ]
  },
  {
   "cell_type": "code",
   "execution_count": 24,
   "metadata": {},
   "outputs": [],
   "source": [
    "big_table=pd.concat([master[i] for i in master],axis=0)"
   ]
  },
  {
   "cell_type": "code",
   "execution_count": 27,
   "metadata": {},
   "outputs": [
    {
     "data": {
      "text/html": [
       "<div>\n",
       "<style scoped>\n",
       "    .dataframe tbody tr th:only-of-type {\n",
       "        vertical-align: middle;\n",
       "    }\n",
       "\n",
       "    .dataframe tbody tr th {\n",
       "        vertical-align: top;\n",
       "    }\n",
       "\n",
       "    .dataframe thead th {\n",
       "        text-align: right;\n",
       "    }\n",
       "</style>\n",
       "<table border=\"1\" class=\"dataframe\">\n",
       "  <thead>\n",
       "    <tr style=\"text-align: right;\">\n",
       "      <th></th>\n",
       "      <th>name</th>\n",
       "      <th>addrs</th>\n",
       "      <th>rating</th>\n",
       "      <th>price</th>\n",
       "    </tr>\n",
       "  </thead>\n",
       "  <tbody>\n",
       "    <tr>\n",
       "      <th>0</th>\n",
       "      <td>OYO Flagship 30395 Tulip Towers Saravanampatti</td>\n",
       "      <td>Near SNS Engineering college, Coimbatore</td>\n",
       "      <td>4.3</td>\n",
       "      <td>₹673</td>\n",
       "    </tr>\n",
       "    <tr>\n",
       "      <th>1</th>\n",
       "      <td>SilverKey Executive Stays 17281 Athithi Inn De...</td>\n",
       "      <td>Near Aathi Maaruthi, Vetri Vinayagar Nagar, Co...</td>\n",
       "      <td>4.4</td>\n",
       "      <td>₹883</td>\n",
       "    </tr>\n",
       "    <tr>\n",
       "      <th>2</th>\n",
       "      <td>OYO Townhouse 124 Srm</td>\n",
       "      <td>Near Tatabad, Coimbatore</td>\n",
       "      <td>4.4</td>\n",
       "      <td>₹1252</td>\n",
       "    </tr>\n",
       "    <tr>\n",
       "      <th>3</th>\n",
       "      <td>OYO 37217 Hotel Cresant Park</td>\n",
       "      <td>Near Airport, Coimbatore</td>\n",
       "      <td>4.1</td>\n",
       "      <td>₹905</td>\n",
       "    </tr>\n",
       "    <tr>\n",
       "      <th>4</th>\n",
       "      <td>OYO 30971 GM Grande</td>\n",
       "      <td>Near Karpagam University, Madukkarai market, C...</td>\n",
       "      <td>4.4</td>\n",
       "      <td>₹918</td>\n",
       "    </tr>\n",
       "  </tbody>\n",
       "</table>\n",
       "</div>"
      ],
      "text/plain": [
       "                                                name  \\\n",
       "0     OYO Flagship 30395 Tulip Towers Saravanampatti   \n",
       "1  SilverKey Executive Stays 17281 Athithi Inn De...   \n",
       "2                              OYO Townhouse 124 Srm   \n",
       "3                       OYO 37217 Hotel Cresant Park   \n",
       "4                                OYO 30971 GM Grande   \n",
       "\n",
       "                                               addrs rating  price  \n",
       "0           Near SNS Engineering college, Coimbatore    4.3   ₹673  \n",
       "1  Near Aathi Maaruthi, Vetri Vinayagar Nagar, Co...    4.4   ₹883  \n",
       "2                           Near Tatabad, Coimbatore    4.4  ₹1252  \n",
       "3                           Near Airport, Coimbatore    4.1   ₹905  \n",
       "4  Near Karpagam University, Madukkarai market, C...    4.4   ₹918  "
      ]
     },
     "execution_count": 27,
     "metadata": {},
     "output_type": "execute_result"
    }
   ],
   "source": [
    "big_table.head()"
   ]
  },
  {
   "cell_type": "code",
   "execution_count": 28,
   "metadata": {},
   "outputs": [
    {
     "data": {
      "text/plain": [
       "name      object\n",
       "addrs     object\n",
       "rating    object\n",
       "price     object\n",
       "dtype: object"
      ]
     },
     "execution_count": 28,
     "metadata": {},
     "output_type": "execute_result"
    }
   ],
   "source": [
    "big_table.dtypes"
   ]
  },
  {
   "cell_type": "code",
   "execution_count": 31,
   "metadata": {},
   "outputs": [],
   "source": [
    "big_table['rating']=big_table['rating'].astype('float')"
   ]
  },
  {
   "cell_type": "code",
   "execution_count": 34,
   "metadata": {},
   "outputs": [],
   "source": [
    "big_table['price']=big_table['price'].str.replace(\"₹\",\"\").astype('float')"
   ]
  },
  {
   "cell_type": "code",
   "execution_count": 35,
   "metadata": {},
   "outputs": [],
   "source": [
    "### Zomato Example\n",
    "url=\"https://www.zomato.com/bangalore/hyderabadi-spice-3-electronic-city/reviews\"\n",
    "browser.get(url)"
   ]
  },
  {
   "cell_type": "code",
   "execution_count": 38,
   "metadata": {},
   "outputs": [],
   "source": [
    "els=browser.find_elements_by_class_name(\"item\")"
   ]
  },
  {
   "cell_type": "code",
   "execution_count": 39,
   "metadata": {},
   "outputs": [
    {
     "data": {
      "text/plain": [
       "86"
      ]
     },
     "execution_count": 39,
     "metadata": {},
     "output_type": "execute_result"
    }
   ],
   "source": [
    "len(els)"
   ]
  },
  {
   "cell_type": "code",
   "execution_count": 48,
   "metadata": {},
   "outputs": [
    {
     "name": "stdout",
     "output_type": "stream",
     "text": [
      "found\n"
     ]
    }
   ],
   "source": [
    "for i in els:\n",
    "    if i.text.strip().split(\"\\n\")[0].strip()==\"All Reviews\":\n",
    "        print(\"found\")"
   ]
  },
  {
   "cell_type": "code",
   "execution_count": 49,
   "metadata": {},
   "outputs": [],
   "source": [
    "path=\"/html/body/div[7]/div[1]/div/div[1]/div[3]/div/div[3]/div[1]/div[1]/div[1]/div/div[3]/a[2]\"\n",
    "el=browser.find_elements_by_xpath(path)"
   ]
  },
  {
   "cell_type": "code",
   "execution_count": 50,
   "metadata": {},
   "outputs": [
    {
     "data": {
      "text/plain": [
       "1"
      ]
     },
     "execution_count": 50,
     "metadata": {},
     "output_type": "execute_result"
    }
   ],
   "source": [
    "len(el)"
   ]
  },
  {
   "cell_type": "code",
   "execution_count": 51,
   "metadata": {},
   "outputs": [],
   "source": [
    "el[0].click()"
   ]
  },
  {
   "cell_type": "code",
   "execution_count": 52,
   "metadata": {},
   "outputs": [],
   "source": [
    "btns=browser.find_elements_by_class_name(\"zred\")"
   ]
  },
  {
   "cell_type": "code",
   "execution_count": 53,
   "metadata": {},
   "outputs": [
    {
     "data": {
      "text/plain": [
       "11"
      ]
     },
     "execution_count": 53,
     "metadata": {},
     "output_type": "execute_result"
    }
   ],
   "source": [
    "len(btns)"
   ]
  },
  {
   "cell_type": "code",
   "execution_count": 56,
   "metadata": {},
   "outputs": [],
   "source": [
    "for btn in btns:\n",
    "    if btn.text.strip()==\"LOAD MORE\":\n",
    "        btn.click()"
   ]
  },
  {
   "cell_type": "code",
   "execution_count": 59,
   "metadata": {},
   "outputs": [],
   "source": [
    "btns=browser.find_elements_by_class_name(\"zred\")\n",
    "for btn in btns:\n",
    "    if btn.text.strip()==\"LOAD MORE\":\n",
    "        btn.click()"
   ]
  },
  {
   "cell_type": "code",
   "execution_count": 70,
   "metadata": {},
   "outputs": [],
   "source": [
    "## Final Code\n",
    "url=\"https://www.zomato.com/bangalore/hyderabadi-spice-3-electronic-city/reviews\"\n",
    "browser=webdriver.Firefox()\n",
    "browser.get(url)"
   ]
  },
  {
   "cell_type": "code",
   "execution_count": 71,
   "metadata": {},
   "outputs": [],
   "source": [
    "path=\"/html/body/div[7]/div[1]/div/div[1]/div[3]/div/div[3]/div[1]/div[1]/div[1]/div/div[3]/a[2]\"\n",
    "el=browser.find_elements_by_xpath(path)\n",
    "el[0].click()"
   ]
  },
  {
   "cell_type": "code",
   "execution_count": 72,
   "metadata": {},
   "outputs": [],
   "source": [
    "import time\n",
    "while True:\n",
    "    btns=browser.find_elements_by_class_name(\"zred\")\n",
    "    state={}\n",
    "    for btn in btns:\n",
    "        if btn.text.strip()==\"LOAD MORE\":\n",
    "            state[btn]=1\n",
    "            btn.click()\n",
    "            time.sleep(2)\n",
    "        else:\n",
    "            state[btn]=0\n",
    "    if sum(state.values())==0:\n",
    "        break       "
   ]
  },
  {
   "cell_type": "code",
   "execution_count": 73,
   "metadata": {},
   "outputs": [],
   "source": [
    "html=browser.page_source"
   ]
  },
  {
   "cell_type": "code",
   "execution_count": 74,
   "metadata": {},
   "outputs": [],
   "source": [
    "soup=BeautifulSoup(html,'html.parser')"
   ]
  },
  {
   "cell_type": "code",
   "execution_count": 75,
   "metadata": {},
   "outputs": [
    {
     "name": "stdout",
     "output_type": "stream",
     "text": [
      "Rated \n",
      "                                            If you are pure vegetarian, pls do not order the food from this restaurant. Ordered paneer 65, for chicken 65 and chicken biryani rice instead of veg biryani.\n",
      "Rated\n",
      "Rated \n",
      "                                            Everything about Hyderabadi Spice is good so far, but add ons are a waste so request you to put an option to choose add on like a raita or some gravy etc.\n",
      "Rated \n",
      "                                            Hyderabadi spice biryani also one of the best biryani spot in Bangalore...biryani nice taste but there is no spice..only normal spice.. chicken pieces are very juice well cooked chicken..one person sufficient can eat biryani y iam giving 3 star I want to spice biryani.or other wise who ever intersed to eat lite masala they can choose hyd spice\n",
      "Rated \n",
      "                                            Had been there multiple times but had a poor experience during the last time. Taste wise it was good but quality was very bad as we found a small cockroach in the biryani which we ordered. There were so many kids eating food at that time in this restaurant but it was not at all hygienic.\n",
      "Rated \n",
      "                                            Always a favorite place whenever I'll feel hungry, best option which offers quick service. Price is less and the taste of the food is awesome\n",
      "Rated \n",
      "                                            Love the chicken biryani😋\n",
      "Quantity is very good👌\n",
      "Love the spice..\n",
      "I recommend this restaurant...\n",
      "Veg lovers can try Panner biryani too good 😋\n",
      "Rated \n",
      "                                            Hello Hyderabad spice I like your biryani but the problem is after giving you good ratings and review zomato has stopped giving me discounts on your food items . Kindly look into it as I really like your food. Thanks in advance\n",
      "Rated \n",
      "                                            They provide an authentic Hyderabadi Biryani taste which you'll not find anywhere in Bangalore. Quantity and quality is good at a reasonable price.\n",
      "Rated \n",
      "                                            I ordered chicken biriyani and it was good with reasonable price.\n",
      "The taste of biriyani was a little spicy and the rice was real biriyani rice.\n",
      "Rated \n",
      "                                            This restaurant never fails to impress. Every order is fresh and mouth watering and u keep wanting more. Excellent job, keep up the excellent quality . Thanks\n",
      "Rated \n",
      "                                            It's our go-to place for any kind of quick plans. We always order for a plate of Chilli Chicken whenever we vist the outlet. They give such a good quantity of chilli chicken at just Rs. 120. We tried their Chilli Baby Corn once and it was tasty too. We also place orders for Veg Biryani and Special Chicken Biryani whenever we go there. Although I'm not a big fan of their biryani since I find the rice a bit watery/wet but it doesn't taste bad at all. If you're looking for an extremely budget friendly place, do visit them.\n",
      "\n",
      "Cheers to food! Cheers to life!\n",
      "\n",
      "Pocket pinch: 250-300 for two\n",
      "Rated \n",
      "                                            Good Hyderabadi restaurant. Ambiance is good and staff is friendly. one of the good restaurant which serves quality hyderabi dishes in Electronic city. great taste and spicy\n",
      "Rated \n",
      "                                            The quality of biryani is really bad service is bad. The place is always crowded which is it a bad thing but service is extremely bad. Indian breads and curries are good.overall experience is above average. Otherwise if you are looking for a quick dinner this is the place.\n",
      "Rated \n",
      "                                            Nice Biriyani tasted like peri peri chicken Biriyani, food was good and tasted nice and quantity was good too. Will order again. 11111111111\n",
      "Rated \n",
      "                                            Chicken Biriyani and boneless chicken curry is awesome, you can blindly order these items N number of time, even though you will not get bored.☺️☺️☺️\n",
      "Rated \n",
      "                                            We ordered chilli chicken and butter naan. And while serving the chicken to my friend I happened to see insect's waste on the chicken plate. Later when we checked the same with the hotel manager he refused to say anything. So please check before you guys eat from this place. Personally I would never recommend this place to anyone.\n",
      "Rated \n",
      "                                            Very nice biryani. I had tried egg and chicken biryani both of which are tasty. Tasty food and used to eat here during lunch time. Quick delivery, enjoyed the food\n",
      "Rated \n",
      "                                            Food is good but there Is no parking specially if you have car.\n",
      "If you order they don't use good packaging so food get leak. Its almost for any food you order. High charge on packaging and worst packing ever.\n",
      "Rated \n",
      "                                            Recently ordered Chicken Biriyani from here. Taste was good, but side dish they provided was not up to the mark. Salad the provided was more like butter milk, even gravy was not upto the mark in terms of taste. But taste and quantity was good. In fact, it is more than what a person can eat.\n",
      "Rated \n",
      "                                            Super taste and chicken is soft I really enjoyed.great come after my last feedback.\n",
      "Rated \n",
      "                                            very good\n",
      "Rated \n",
      "                                            Ordered prawn and Mutton briyani from Hyderbadi Spice Electronic City phase 1 and was delivered two packets of chicken briyani 😐. Further trying to reach Zomato customer care but no one is responding. Swiggy will be a much better choice I believe\n",
      "Rated \n",
      "                                            Chicken is rubbery\n",
      "Rated \n",
      "                                            Not Good.. Once I ordered it looks so delicious and tasty but in real it was yesterday's food.. Smells bad... When I tested I vomited.. Never try from here.. Zomoto also not responding.. And restaurant also not reachable... So if you don't want to suffer then don't go for this... Don't know how the rating is good.. 😒😒\n",
      "Rated \n",
      "                                            Please spend some time to read, before you order in this restaurant (Hydearabadi Spice)\n",
      "\n",
      "Order ID: 1325160104\n",
      "I have ordered Veg Panner Biriyani, plain biriyani rice and Gobi Manchuria along with kaju panner curry.\n",
      "\n",
      "They have mixed Chicken Pieces in panner biriyani. Observed that, oil and food items are not hygienic and for curries they will add food colours, it may cause sick and for your kids may happen stomach upset.. They don't have concern to run the business and even they didn't understand simple English to read the order. They are not deserve as a restaurant. Shame on you Guys..\n",
      "\n",
      "WARNING ⚠ ..Pure Vegetarians and My Dear customers... Please Stay Away from Hyderabadi Spice.\n",
      "Rated \n",
      "                                            I have ordered special chicken briyani.. Taste is so good and quality also perfect but food packing very bad and also delivery taking more time..\n",
      "Rated \n",
      "                                            I had ordered mushroom 🍄 biriyani . It really tasted good while eating. The long basmati rice had soothing flavour with good amount of mushrooms on it. But after consuming I had terrible experience. I kept on burping till late night. How much ever water 💦 I drank never helped. Not sure what was wrong . Hence I will not recommend this place .\n",
      "Rated \n",
      "                                            good food\n",
      "Rated \n",
      "                                            Biriyani was delicious. I have ordered one chicken briyani. Quantity is sufficient for two people for one person it is too much. Must try it.\n",
      "Rated \n",
      "                                            Loved the food... Biriyani was just awesome.. have also tried other nonveg dishes, superliked all the items..\n",
      "This restaurant has been my first choice always even for the Online food-orders.. price is reasonable, again by applying coupon it becomes so less, and moreover food quality is really appealing..\n",
      "Rated \n",
      "                                            I love the food quality of this restaurant. They are the best in Electronic City area. They serves hygienic and delicious food. My favourite menu is Chicken Dum and Special Biryani and almost all chicken starters.\n",
      "Rated \n",
      "                                            Good Service\n",
      "Rated \n",
      "                                            Food is good. pocket friendly place. Staff is polite. Its chicken biriyani and chicken kolahpuri is very good. On weekend crowded. On weekend you may have to wait\n",
      "Rated \n",
      "                    Located in Electronic City near CCD and many IT company this place is powerpacked on every day ...while we visited on a weekday at dinner around 8.30pm it was fully packed ..Groups /individual /family &couples ...\n",
      "\n",
      "A Very limited menu but very fast service ...from order taking to order serving in table is very quick .\n",
      "\n",
      "Tastewise food are good ...5/4 rating .\n",
      "\n",
      "Parking is an issue and the passage to hotel entrance has a smoking area were most of the people are smoking all around this may discomfort.\n",
      "\n",
      "Coming yo our order\n",
      "Starters : Chicken Tangdi Kebab\n",
      "Chilly Fish\n",
      "Corn Chilly\n",
      "Panner Tikka\n",
      "Maincourse\n",
      "Butter Naan\n",
      "Mutton Rogan Josh\n",
      "PannerTikka Masala\n",
      "hyderabadi Chicken Biryani\n",
      "Sides : Onions and lemon\n",
      "Watery Raita and Salan\n",
      "\n",
      "And one takeaway parcel of biryani\n",
      "\n",
      "To end up as the restaurant doesn't serve dessert we opted for Sweet Lassi\n",
      "\n",
      "Fast selling and timigs is the key for there al time crowd..if you miss the time most of products will be unavailable.\n",
      "\n",
      "VFM as we were 5 and the total bill was close to 1300/-\n",
      "\n",
      "An overall quick and great experience.\n",
      "Rated \n",
      "                                            Good food and friendly environment,\n",
      "Food was awesome must try items: Fish chilli and Hyderabad chicken special starter\n",
      "Very much affordable place\n",
      "Rated \n",
      "                                            as all the time Hyderabad spice is best, 1star minus for not giving salad\n",
      "Rated \n",
      "                                            Hyderabadi spice is a place for biryani.The biryani I had was very tasty,the real taste of Hyderabad.The aroma was very relishing and the chicken was well cooked.The quantity was apt for two persons.\n",
      "Rated \n",
      "                                            You have to try their special chicken wings especially. Their chicken biryanis are also absolutely fabulous. Great Food at a reasonable price. If you are going then please try Rainbow Biryani or Rainbow Masala with roti/nan. Then don't have that in the menu, just ask for it explicitly.Cost effective as well as good quality is what I have observed. The main issue here is we mostly visit this place on Friday's for lunch we have to wait a lot for grabbing a table. Chicken dum biryani, Apollo fish , barbecue chicken etc are there specials which I like the most.It's a proper Hyderabadi biryani joint. Your taste buds will be satisfied and it won't burn a hole in your pocket.\n",
      "Rated \n",
      "                                            Food - 4.5/5, Service - 3/5, Ambience - 2.5/5, Value for Money - 4/5 : One of best Hyderbadi Chicken Biryani...I had heard so much about this place, that I decided to try it out, this place is opposite to Wipro gate and can be easily missed if you are not looking for it. You will have to throw out the hygiene factor, cleanliness out of the window. This is very small place and people come here just to hog on the Biryani. I tried take away also, they are very generous with take away. It is almost like 1.5 times the portion they serve at the restaurant. Value for money...\n",
      "                                                                jpfoodplanet.blogspot.com\n",
      "Rated \n",
      "                                            Cheeters didnt dilever full items and if i call back they r telling book once again we will refund amount like that\n",
      "Rated \n",
      "                                            Ordered an egg and chicken biriyani \n",
      "Both the biriyani’s and chicken are very cold\n",
      "They directly brought it from fridge. \n",
      "I will never recommend to visit or Oder form this restaurant\n",
      "Rated \n",
      "                                            Good service\n",
      "Rated \n",
      "                                            I ordered mutton biriyani. But I got chicken biriyani.. I didn't expect this from hyderabadi spice... I was disappointed.. But the taste is good... Don't do this again\n",
      "Rated \n",
      "                                            Worst service fixing luck MB do MSN neg irksome idk bro NFL MSN o'clock Canuck clan mandrill Islamism BC also Kandy OSI vent MSI she Kai wine idk we've ISO 0 on TTY where web it if CLI GB ESC me\n",
      "Rated \n",
      "                                            spicy less\n",
      "Rated \n",
      "                                            The worst food i never had in my life, and peoples from the shop also not answering properly so please dont chose this restarents for ordering.\n",
      "Rated \n",
      "                                            Today we had ordered chicken biryanis and the taste of biryani was really pathetic, It was like a plane rice no taste of biryani even the rice was looking completely white but last time we had ordered it was very good.\n",
      "Don’t spoil your brand value.\n",
      "Rated \n",
      "                                            very spicy & tasty\n",
      "Rated \n",
      "                                            poor wrong delivery\n",
      "Rated \n",
      "                                            not met expectations\n",
      "Rated \n",
      "                                            time to shift to new restaurant\n",
      "Rated \n",
      "                                            Taste has to be improved\n",
      "Rated \n",
      "                                            quick delivery\n",
      "Rated \n",
      "                                            punctual and hygienic\n",
      "Rated \n",
      "                                            worst pepper chicken, it was smelling raw....yucky\n",
      "Rated \n",
      "                                            veg biryani was very spicy \n",
      "paneer biryani was okay\n",
      "Rated \n",
      "                                            Both Quality and quantity has gone bad. Chicken biryani didn’t had chicken on it. I had ordered chicken dum Biryani but there was no dum in the Biryani, it was complete white rice.\n",
      "Rated \n",
      "                                            super fast delivery man\n",
      "Rated \n",
      "                                            quality wise good with tasty food\n",
      "Rated \n",
      "                                            Here you will find great Biryannis. Had Special biryanni once and loved it the most. Rooti sabjis are quite good too. Sad part is they start to shutdown by 10pm.Rest, food quality is good quantity is great overall decent place to have early dinner\n",
      "Rated \n",
      "                                            Packing has to be improved.\n",
      "Rated \n",
      "                                            please try to deliver on time\n",
      "Rated \n",
      "                                            not maintain proper time\n",
      "Rated \n",
      "                                            Biryani was not good. Rice was wet and overcooked. Even the chicken in biryani was half the quantity than usual. I am not happy with the experience. I had ordered Biryani many times but 1st time bad experience. I want refund\n",
      "Rated \n",
      "                                            Chicken masala was not good.\n",
      "Mutton birayani was awesome\n",
      "On swiggy they have mutton main course\n",
      "menus\n",
      "But here on zomato there is no mutton main course items\n",
      "I don't know why.\n",
      "Butter nan was very bad.\n",
      "Kulcha was good.\n",
      "Rated \n",
      "                                            Special chicken Biryani and Mutton Biryani are good. Starters are okay. The costs are not high and one can get a decent food at a very affordable price\n",
      "Rated \n",
      "                                            fine\n",
      "Rated \n",
      "                                            ORDERED Mutton biryani but i got chicken biryani ..\n",
      "Rated \n",
      "                                            food was nice, chicken quantity was more than usual\n",
      "Rated \n",
      "                                            they din provide sauce\n",
      "Rated \n",
      "                                            Quality samosa\n",
      "Rated \n",
      "                                            professional delivery boy.\n",
      "Rated \n",
      "                                            happy\n",
      "Rated \n",
      "                                            less chicken, no onion\n",
      "Rated \n",
      "                                            good\n",
      "Rated \n",
      "                                            I have ordered in Hyd spicy and after 1 hour the order got rejected, its very useless response from them, I never thought that it will be rejected. After 11.10PM have came to know that its was rejected . to the core irritated by Zomota, really worst service by zomota customer care\n",
      "Rated \n",
      "                                            Awesome food. Spicy and very tasty. On time delivery. After long time I feel like I am at Hyderabad. Taste like same as Hyderabad biryani...\n",
      "Rated \n",
      "                                            need to Improve. add some Spicy Taste\n",
      "Rated \n",
      "                                            Good\n",
      "Rated \n",
      "                                            Third class food here. I ordered Special Chicken Biriyani , there was few pieces of chicken which was dry and no taste, and instead of full egg I received half egg. Improve the quality of food first. Then come for delivery.\n",
      "Rated \n",
      "                                            good\n",
      "Rated \n",
      "                                            Awesome food really very nice\n",
      "Rated \n",
      "                                            We ordered special chicken biryani. It was taste toooo good with reasonable cost. And delivery order also came in time. Eat and enjoy.......\n",
      "Rated \n",
      "                                            I ordered chicken biryani on zamoto. But it's normal biryani with two chicken pieces.\n",
      "\n",
      "Bad kulchas not at all fresh. Manchiura is good and better\n",
      "Rated \n",
      "                                            food is not good\n",
      "Rated \n",
      "                                            I am regular customer fro hyderabadi since months now. Was disappointed with yesterday's food. Roti was pathetic was hard and not edible and was roasted\n",
      "Rated \n",
      "                                            5 star to 1 star only becoz they doesn't meet the requirement. They do not understand the meaning of extra raita.\n",
      "Otherwise Biryani is good.\n",
      "Rated \n",
      "                                            Biryani is great, can improve the raita and curry served. You can go for this restaurant if you love biryani. The speciality here is Chicken special biryani, however my favourite has been Mutton biryani.\n",
      "Rated \n",
      "                                            the chicken was sweet. Rice was good. Raita was very little.\n",
      "Rated \n",
      "                                            Value for money.Had ordered Tandori chicken and Chicken Biryani.Tandori was good.Biryani was ok.The ambience of the restaurant is not good.Service was good and fast.If you want a descent biryani and in that area,then can go there.\n",
      "Rated \n",
      "                                            The best place to have biryani around electronic city\n",
      "Tried boneless chicken biryani, tandoori chicken biryani, chicken tandoori, chicken 555 and barbeque chicken. All the dishes are awesome. They need not tell visit us again because once we go there we get addicted to their tasty food!\n",
      "Rated \n",
      "                                            very oily and spicy\n",
      "Rated \n",
      "                                            excellent taste\n",
      "Rated \n",
      "                                            Not happy with the food delivered.\n",
      "food was almost rotten.\n",
      "bad quality food delivered to me.  I just threw this once that I got delivered. waste of money and time.\n",
      "will never recommend any one zamato service or this restaurant , Disappointed!!\n",
      "Rated \n",
      "                                            I ordered Kadai veg (which is my favorite) and it was delivered just as they serve in restaurant.\n",
      "Rated \n",
      "                                            I have ordered 4 Biryani's. No onion & lemon in parcel even requested. They should not do this every time. Please check parcel everytime whenever you get order from spice.\n",
      "Rated \n",
      "                                            very good\n",
      "Rated \n",
      "                                            good\n",
      "Rated \n",
      "                                            He charged extra money\n",
      "Rated \n",
      "                                            I had ordered a lemon chicken starter. The quantity was very less and the quality was just okay.\n",
      "Rated \n",
      "                                            wrong delivery done\n",
      "Rated \n",
      "                                            Delivery delayed infinitely and upset with with ridiculous service !!\n",
      "\n",
      "Fake assurances and fooling people with no limits .\n",
      "\n",
      "Very upset and disturbing service !!\n",
      "Rated \n",
      "                                            Biryani was Awesome.....Had such a delicious biryani after so long.....10star\n",
      "Rated \n",
      "                                            \n",
      "I ordered special chicken biriyani. But there I found 2pices of different meat. Don't know what was that\n",
      "Rated \n",
      "                                            I have ordered for mushroom Manchurian, instead they gave babycorn Manchurian. My friend is a vegetarian and he ordered veg biryani rice, but they gave non-veg biryani rice.Very bad experience.\n",
      "Rated \n",
      "                                            wrong food delivered.\n",
      "Rated \n",
      "                                            I'd asked for lemons, which weren't given. food was good otherwise. chicken needed some salt\n",
      "Rated \n",
      "                                            briyani not good.\n",
      "Rated \n",
      "                                            delivery late.. and before delivery app update that item was already delivered\n"
     ]
    }
   ],
   "source": [
    "for i in soup.find_all(\"div\",class_=\"rev-text\"):\n",
    "    print(i.text.strip())"
   ]
  },
  {
   "cell_type": "code",
   "execution_count": 76,
   "metadata": {},
   "outputs": [],
   "source": [
    "url=\"https://earthquake.usgs.gov/fdsnws/event/1/query?format=geojson&starttime=2016-10-03&endtime=2016-10-04\"\n",
    "import requests\n",
    "resp=requests.get(url).json()"
   ]
  },
  {
   "cell_type": "code",
   "execution_count": 78,
   "metadata": {},
   "outputs": [
    {
     "data": {
      "text/plain": [
       "dict"
      ]
     },
     "execution_count": 78,
     "metadata": {},
     "output_type": "execute_result"
    }
   ],
   "source": [
    "type(resp)"
   ]
  },
  {
   "cell_type": "code",
   "execution_count": 79,
   "metadata": {},
   "outputs": [
    {
     "data": {
      "text/plain": [
       "dict_keys(['type', 'metadata', 'features', 'bbox'])"
      ]
     },
     "execution_count": 79,
     "metadata": {},
     "output_type": "execute_result"
    }
   ],
   "source": [
    "resp.keys()"
   ]
  },
  {
   "cell_type": "code",
   "execution_count": 80,
   "metadata": {},
   "outputs": [
    {
     "data": {
      "text/plain": [
       "'FeatureCollection'"
      ]
     },
     "execution_count": 80,
     "metadata": {},
     "output_type": "execute_result"
    }
   ],
   "source": [
    "resp['type']"
   ]
  },
  {
   "cell_type": "code",
   "execution_count": 95,
   "metadata": {},
   "outputs": [
    {
     "data": {
      "text/plain": [
       "1569401699000"
      ]
     },
     "execution_count": 95,
     "metadata": {},
     "output_type": "execute_result"
    }
   ],
   "source": [
    "resp['metadata']['generated']"
   ]
  },
  {
   "cell_type": "code",
   "execution_count": 86,
   "metadata": {},
   "outputs": [
    {
     "data": {
      "text/plain": [
       "dict_keys(['type', 'properties', 'geometry', 'id'])"
      ]
     },
     "execution_count": 86,
     "metadata": {},
     "output_type": "execute_result"
    }
   ],
   "source": [
    "resp['features'][0].keys()"
   ]
  },
  {
   "cell_type": "code",
   "execution_count": 89,
   "metadata": {},
   "outputs": [
    {
     "data": {
      "text/plain": [
       "{'type': 'Point', 'coordinates': [-116.7825, 33.6873333, 16.71]}"
      ]
     },
     "execution_count": 89,
     "metadata": {},
     "output_type": "execute_result"
    }
   ],
   "source": [
    "resp['features'][0]['geometry']"
   ]
  },
  {
   "cell_type": "code",
   "execution_count": 92,
   "metadata": {},
   "outputs": [
    {
     "data": {
      "text/plain": [
       "0.71"
      ]
     },
     "execution_count": 92,
     "metadata": {},
     "output_type": "execute_result"
    }
   ],
   "source": [
    "resp['features'][0]['properties']['mag']"
   ]
  },
  {
   "cell_type": "code",
   "execution_count": 98,
   "metadata": {},
   "outputs": [],
   "source": [
    "mag=[]\n",
    "for i in resp['features']:\n",
    "    mag.append(i['properties']['mag'])"
   ]
  },
  {
   "cell_type": "code",
   "execution_count": 100,
   "metadata": {},
   "outputs": [],
   "source": [
    "### Lattitude and Longitude"
   ]
  },
  {
   "cell_type": "code",
   "execution_count": 104,
   "metadata": {},
   "outputs": [
    {
     "data": {
      "text/plain": [
       "-116.7825"
      ]
     },
     "execution_count": 104,
     "metadata": {},
     "output_type": "execute_result"
    }
   ],
   "source": [
    "resp['features'][0]['geometry']['coordinates'][0]"
   ]
  },
  {
   "cell_type": "code",
   "execution_count": 105,
   "metadata": {},
   "outputs": [
    {
     "data": {
      "text/plain": [
       "33.6873333"
      ]
     },
     "execution_count": 105,
     "metadata": {},
     "output_type": "execute_result"
    }
   ],
   "source": [
    "resp['features'][0]['geometry']['coordinates'][1]"
   ]
  },
  {
   "cell_type": "code",
   "execution_count": 107,
   "metadata": {},
   "outputs": [],
   "source": [
    "lat=[]\n",
    "lon=[]\n",
    "for i in resp['features']:\n",
    "    lat.append(i['geometry']['coordinates'][0])\n",
    "    lon.append(i['geometry']['coordinates'][1])"
   ]
  },
  {
   "cell_type": "code",
   "execution_count": 108,
   "metadata": {},
   "outputs": [],
   "source": [
    "url=\"https://earthquake.usgs.gov/fdsnws/event/1/query?format=geojson&starttime=2016-10-01&endtime=2016-10-02\""
   ]
  },
  {
   "cell_type": "code",
   "execution_count": 109,
   "metadata": {},
   "outputs": [],
   "source": [
    "resp=requests.get(url).json()"
   ]
  },
  {
   "cell_type": "code",
   "execution_count": 110,
   "metadata": {},
   "outputs": [
    {
     "data": {
      "text/plain": [
       "dict_keys(['type', 'metadata', 'features', 'bbox'])"
      ]
     },
     "execution_count": 110,
     "metadata": {},
     "output_type": "execute_result"
    }
   ],
   "source": [
    "resp.keys()"
   ]
  },
  {
   "cell_type": "code",
   "execution_count": 112,
   "metadata": {},
   "outputs": [
    {
     "data": {
      "text/plain": [
       "list"
      ]
     },
     "execution_count": 112,
     "metadata": {},
     "output_type": "execute_result"
    }
   ],
   "source": [
    "type(resp['features'])"
   ]
  },
  {
   "cell_type": "code",
   "execution_count": 113,
   "metadata": {},
   "outputs": [
    {
     "data": {
      "text/plain": [
       "309"
      ]
     },
     "execution_count": 113,
     "metadata": {},
     "output_type": "execute_result"
    }
   ],
   "source": [
    "len(resp['features'])"
   ]
  },
  {
   "cell_type": "code",
   "execution_count": 114,
   "metadata": {},
   "outputs": [
    {
     "data": {
      "text/plain": [
       "dict"
      ]
     },
     "execution_count": 114,
     "metadata": {},
     "output_type": "execute_result"
    }
   ],
   "source": [
    "type(resp['features'][0])"
   ]
  },
  {
   "cell_type": "code",
   "execution_count": 116,
   "metadata": {},
   "outputs": [],
   "source": [
    "lat=[]\n",
    "lon=[]\n",
    "place=[]\n",
    "mag=[]\n",
    "title=[]\n",
    "for i in resp['features']:\n",
    "    lat.append(i['geometry']['coordinates'][0])\n",
    "    lon.append(i['geometry']['coordinates'][1])\n",
    "    place.append(i['properties']['place'])\n",
    "    mag.append(i['properties']['mag'])\n",
    "    title.append(i['properties']['title'])"
   ]
  },
  {
   "cell_type": "code",
   "execution_count": 117,
   "metadata": {},
   "outputs": [],
   "source": [
    "table=pd.DataFrame({'lat':lat,'lon':lon,'place':place,\\\n",
    "                  'mag':mag,'title':title })"
   ]
  },
  {
   "cell_type": "code",
   "execution_count": 119,
   "metadata": {},
   "outputs": [
    {
     "data": {
      "text/plain": [
       "(309, 5)"
      ]
     },
     "execution_count": 119,
     "metadata": {},
     "output_type": "execute_result"
    }
   ],
   "source": [
    "table.shape"
   ]
  },
  {
   "cell_type": "code",
   "execution_count": 120,
   "metadata": {},
   "outputs": [
    {
     "data": {
      "text/plain": [
       "(79, 5)"
      ]
     },
     "execution_count": 120,
     "metadata": {},
     "output_type": "execute_result"
    }
   ],
   "source": [
    "table.query(\"mag>2\").shape"
   ]
  },
  {
   "cell_type": "code",
   "execution_count": 122,
   "metadata": {},
   "outputs": [
    {
     "data": {
      "text/plain": [
       "66"
      ]
     },
     "execution_count": 122,
     "metadata": {},
     "output_type": "execute_result"
    }
   ],
   "source": [
    "table['place'].str.contains(\"California\").sum()"
   ]
  },
  {
   "cell_type": "code",
   "execution_count": 124,
   "metadata": {},
   "outputs": [
    {
     "data": {
      "text/plain": [
       "66"
      ]
     },
     "execution_count": 124,
     "metadata": {},
     "output_type": "execute_result"
    }
   ],
   "source": [
    "table['place'].map(lambda x: 1 if \"California\" in x else 0).sum()"
   ]
  },
  {
   "cell_type": "code",
   "execution_count": 126,
   "metadata": {},
   "outputs": [
    {
     "data": {
      "text/plain": [
       "6"
      ]
     },
     "execution_count": 126,
     "metadata": {},
     "output_type": "execute_result"
    }
   ],
   "source": [
    "table.query(\"mag>5\").shape[0]"
   ]
  },
  {
   "cell_type": "code",
   "execution_count": 134,
   "metadata": {},
   "outputs": [],
   "source": [
    "### Twitter API, Create a twitter account"
   ]
  },
  {
   "cell_type": "code",
   "execution_count": 136,
   "metadata": {},
   "outputs": [],
   "source": [
    "## !pip install tweepy"
   ]
  },
  {
   "cell_type": "code",
   "execution_count": 135,
   "metadata": {},
   "outputs": [],
   "source": [
    "api_key=\"yfXmIGschfr4EWn8puWzfsapq\"\n",
    "api_secret=\"qX6tNVEwPiCP3QRfGXRNQxZS9V7xgoKPLKog16KEpqDkEwMXTt\"\n",
    "access_token=\"897478702128275457-Hwuo5H4mnwHzLpx3rWllgwxKcFFmYkE\"\n",
    "access_secret=\"yImFYpM19tCzGSlvGn8inPnzUirWxlnGTurUc6cpvCK8R\""
   ]
  },
  {
   "cell_type": "code",
   "execution_count": 137,
   "metadata": {},
   "outputs": [],
   "source": [
    "import tweepy"
   ]
  },
  {
   "cell_type": "code",
   "execution_count": 138,
   "metadata": {},
   "outputs": [],
   "source": [
    "auth=tweepy.OAuthHandler(api_key,api_secret)\n",
    "auth.set_access_token(access_token,access_secret)\n",
    "api=tweepy.API(auth)"
   ]
  },
  {
   "cell_type": "code",
   "execution_count": 139,
   "metadata": {},
   "outputs": [],
   "source": [
    "tweets=api.user_timeline(\"ShashiTharoor\",page=1,count=200)"
   ]
  },
  {
   "cell_type": "code",
   "execution_count": 141,
   "metadata": {},
   "outputs": [
    {
     "data": {
      "text/plain": [
       "'Jawaharlal Nehru remains the only Indian Prime Minister to be greeted on arrival at the airport by a US President —… https://t.co/7VTaiIGDlV'"
      ]
     },
     "execution_count": 141,
     "metadata": {},
     "output_type": "execute_result"
    }
   ],
   "source": [
    "tweets[0].text"
   ]
  },
  {
   "cell_type": "code",
   "execution_count": 142,
   "metadata": {},
   "outputs": [
    {
     "name": "stdout",
     "output_type": "stream",
     "text": [
      "['__class__', '__delattr__', '__dict__', '__dir__', '__doc__', '__eq__', '__format__', '__ge__', '__getattribute__', '__getstate__', '__gt__', '__hash__', '__init__', '__init_subclass__', '__le__', '__lt__', '__module__', '__ne__', '__new__', '__reduce__', '__reduce_ex__', '__repr__', '__setattr__', '__sizeof__', '__str__', '__subclasshook__', '__weakref__', '_api', '_json', 'author', 'contributors', 'coordinates', 'created_at', 'destroy', 'entities', 'favorite', 'favorite_count', 'favorited', 'geo', 'id', 'id_str', 'in_reply_to_screen_name', 'in_reply_to_status_id', 'in_reply_to_status_id_str', 'in_reply_to_user_id', 'in_reply_to_user_id_str', 'is_quote_status', 'lang', 'parse', 'parse_list', 'place', 'retweet', 'retweet_count', 'retweeted', 'retweets', 'source', 'source_url', 'text', 'truncated', 'user']\n"
     ]
    }
   ],
   "source": [
    "print(dir(tweets[0]))"
   ]
  },
  {
   "cell_type": "code",
   "execution_count": 145,
   "metadata": {},
   "outputs": [
    {
     "data": {
      "text/plain": [
       "'Twitter for iPhone'"
      ]
     },
     "execution_count": 145,
     "metadata": {},
     "output_type": "execute_result"
    }
   ],
   "source": [
    "tweets[0].source"
   ]
  },
  {
   "cell_type": "code",
   "execution_count": 146,
   "metadata": {},
   "outputs": [
    {
     "data": {
      "text/plain": [
       "'en'"
      ]
     },
     "execution_count": 146,
     "metadata": {},
     "output_type": "execute_result"
    }
   ],
   "source": [
    "tweets[0].lang"
   ]
  },
  {
   "cell_type": "code",
   "execution_count": 147,
   "metadata": {},
   "outputs": [
    {
     "data": {
      "text/plain": [
       "4927"
      ]
     },
     "execution_count": 147,
     "metadata": {},
     "output_type": "execute_result"
    }
   ],
   "source": [
    "tweets[0].favorite_count"
   ]
  },
  {
   "cell_type": "code",
   "execution_count": 148,
   "metadata": {},
   "outputs": [
    {
     "data": {
      "text/plain": [
       "972"
      ]
     },
     "execution_count": 148,
     "metadata": {},
     "output_type": "execute_result"
    }
   ],
   "source": [
    "tweets[0].retweet_count"
   ]
  },
  {
   "cell_type": "code",
   "execution_count": null,
   "metadata": {},
   "outputs": [],
   "source": [
    "# source\n",
    "# lang\n",
    "# retweet count\n",
    "# place"
   ]
  },
  {
   "cell_type": "code",
   "execution_count": 154,
   "metadata": {},
   "outputs": [],
   "source": [
    "t=api.search(\"Pakistan\",count=200)"
   ]
  },
  {
   "cell_type": "code",
   "execution_count": 155,
   "metadata": {},
   "outputs": [
    {
     "data": {
      "text/plain": [
       "'RT @eha_medya: Pakistan Başbakanı İmran Han: \"Cumhurbaşkanı Erdoğan\\'a BM konuşmasında Keşmir sorununa yer verdiği için gerçekten çok teşekk…'"
      ]
     },
     "execution_count": 155,
     "metadata": {},
     "output_type": "execute_result"
    }
   ],
   "source": [
    "t[0].text"
   ]
  },
  {
   "cell_type": "code",
   "execution_count": 156,
   "metadata": {},
   "outputs": [],
   "source": [
    "source=[]\n",
    "lang=[]\n",
    "rt=[]\n",
    "place=[]\n",
    "for i in tweets:\n",
    "    source.append(i.source)\n",
    "    lang.append(i.lang)\n",
    "    rt.append(i.retweet_count)\n",
    "    place.append(i.place)"
   ]
  },
  {
   "cell_type": "code",
   "execution_count": 157,
   "metadata": {},
   "outputs": [],
   "source": [
    "table=pd.DataFrame({'source':source,'lang':lang,'rt':rt,\\\n",
    "                   'place':place})"
   ]
  },
  {
   "cell_type": "code",
   "execution_count": 158,
   "metadata": {},
   "outputs": [
    {
     "data": {
      "text/html": [
       "<div>\n",
       "<style scoped>\n",
       "    .dataframe tbody tr th:only-of-type {\n",
       "        vertical-align: middle;\n",
       "    }\n",
       "\n",
       "    .dataframe tbody tr th {\n",
       "        vertical-align: top;\n",
       "    }\n",
       "\n",
       "    .dataframe thead th {\n",
       "        text-align: right;\n",
       "    }\n",
       "</style>\n",
       "<table border=\"1\" class=\"dataframe\">\n",
       "  <thead>\n",
       "    <tr style=\"text-align: right;\">\n",
       "      <th></th>\n",
       "      <th>source</th>\n",
       "      <th>lang</th>\n",
       "      <th>rt</th>\n",
       "      <th>place</th>\n",
       "    </tr>\n",
       "  </thead>\n",
       "  <tbody>\n",
       "    <tr>\n",
       "      <th>0</th>\n",
       "      <td>Twitter for iPhone</td>\n",
       "      <td>en</td>\n",
       "      <td>972</td>\n",
       "      <td>None</td>\n",
       "    </tr>\n",
       "    <tr>\n",
       "      <th>1</th>\n",
       "      <td>Twitter for iPhone</td>\n",
       "      <td>en</td>\n",
       "      <td>28</td>\n",
       "      <td>None</td>\n",
       "    </tr>\n",
       "    <tr>\n",
       "      <th>2</th>\n",
       "      <td>Twitter Web App</td>\n",
       "      <td>en</td>\n",
       "      <td>2680</td>\n",
       "      <td>None</td>\n",
       "    </tr>\n",
       "    <tr>\n",
       "      <th>3</th>\n",
       "      <td>Twitter Web App</td>\n",
       "      <td>en</td>\n",
       "      <td>243</td>\n",
       "      <td>None</td>\n",
       "    </tr>\n",
       "    <tr>\n",
       "      <th>4</th>\n",
       "      <td>Twitter Web App</td>\n",
       "      <td>en</td>\n",
       "      <td>42</td>\n",
       "      <td>None</td>\n",
       "    </tr>\n",
       "  </tbody>\n",
       "</table>\n",
       "</div>"
      ],
      "text/plain": [
       "               source lang    rt place\n",
       "0  Twitter for iPhone   en   972  None\n",
       "1  Twitter for iPhone   en    28  None\n",
       "2     Twitter Web App   en  2680  None\n",
       "3     Twitter Web App   en   243  None\n",
       "4     Twitter Web App   en    42  None"
      ]
     },
     "execution_count": 158,
     "metadata": {},
     "output_type": "execute_result"
    }
   ],
   "source": [
    "table.head()"
   ]
  },
  {
   "cell_type": "code",
   "execution_count": 168,
   "metadata": {},
   "outputs": [
    {
     "name": "stderr",
     "output_type": "stream",
     "text": [
      "100%|██████████| 11/11 [00:15<00:00,  1.35s/it]\n"
     ]
    }
   ],
   "source": [
    "from tqdm import tqdm\n",
    "source=[]\n",
    "lang=[]\n",
    "rt=[]\n",
    "place=[]\n",
    "created=[]\n",
    "for i in tqdm(range(1,12)):\n",
    "    tweets=api.user_timeline(\"narendramodi\",page=i,count=200)\n",
    "    for i in tweets:\n",
    "        source.append(i.source)\n",
    "        lang.append(i.lang)\n",
    "        rt.append(i.retweet_count)\n",
    "        place.append(i.place)\n",
    "        created.append(i.created_at)"
   ]
  },
  {
   "cell_type": "code",
   "execution_count": 173,
   "metadata": {},
   "outputs": [],
   "source": [
    "table=pd.DataFrame({'source':source,'lang':lang,'rt':rt,\\\n",
    "                   'place':place,'created':created})"
   ]
  },
  {
   "cell_type": "code",
   "execution_count": 174,
   "metadata": {},
   "outputs": [
    {
     "data": {
      "text/plain": [
       "en     1685\n",
       "hi      313\n",
       "ru       20\n",
       "bo       20\n",
       "fr       17\n",
       "und      16\n",
       "ar       16\n",
       "ur       11\n",
       "gu        9\n",
       "te        9\n",
       "mr        8\n",
       "or        7\n",
       "in        7\n",
       "es        6\n",
       "zh        6\n",
       "ne        6\n",
       "bn        5\n",
       "pa        4\n",
       "ja        4\n",
       "ml        3\n",
       "ta        3\n",
       "kn        3\n",
       "ko        3\n",
       "et        3\n",
       "iw        3\n",
       "it        2\n",
       "tr        2\n",
       "tl        2\n",
       "ro        1\n",
       "de        1\n",
       "ps        1\n",
       "pt        1\n",
       "da        1\n",
       "si        1\n",
       "fa        1\n",
       "Name: lang, dtype: int64"
      ]
     },
     "execution_count": 174,
     "metadata": {},
     "output_type": "execute_result"
    }
   ],
   "source": [
    "table['lang'].value_counts()"
   ]
  },
  {
   "cell_type": "code",
   "execution_count": 175,
   "metadata": {},
   "outputs": [
    {
     "data": {
      "text/plain": [
       "Twitter for iPhone      725\n",
       "Twitter Web Client      538\n",
       "Twitter Media Studio    460\n",
       "Twitter Web App         228\n",
       "Periscope               226\n",
       "Twitter for Android      22\n",
       "Twitter Ads Composer      1\n",
       "Name: source, dtype: int64"
      ]
     },
     "execution_count": 175,
     "metadata": {},
     "output_type": "execute_result"
    }
   ],
   "source": [
    "table['source'].value_counts()"
   ]
  },
  {
   "cell_type": "code",
   "execution_count": 176,
   "metadata": {},
   "outputs": [
    {
     "data": {
      "text/plain": [
       "0   2019-09-25 03:17:52\n",
       "1   2019-09-25 02:13:52\n",
       "2   2019-09-25 01:37:33\n",
       "3   2019-09-25 01:36:34\n",
       "4   2019-09-25 01:35:37\n",
       "Name: created, dtype: datetime64[ns]"
      ]
     },
     "execution_count": 176,
     "metadata": {},
     "output_type": "execute_result"
    }
   ],
   "source": [
    "table['created'].head()"
   ]
  },
  {
   "cell_type": "code",
   "execution_count": null,
   "metadata": {},
   "outputs": [],
   "source": []
  }
 ],
 "metadata": {
  "kernelspec": {
   "display_name": "Python 3",
   "language": "python",
   "name": "python3"
  },
  "language_info": {
   "codemirror_mode": {
    "name": "ipython",
    "version": 3
   },
   "file_extension": ".py",
   "mimetype": "text/x-python",
   "name": "python",
   "nbconvert_exporter": "python",
   "pygments_lexer": "ipython3",
   "version": "3.7.3"
  }
 },
 "nbformat": 4,
 "nbformat_minor": 2
}
